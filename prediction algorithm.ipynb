{
 "cells": [
  {
   "cell_type": "markdown",
   "metadata": {},
   "source": [
    "#### CS Prediction Algorithm"
   ]
  },
  {
   "cell_type": "code",
   "execution_count": 1,
   "metadata": {},
   "outputs": [],
   "source": [
    "import pandas as pd\n",
    "import numpy as np\n",
    "import pathlib\n",
    "from pathlib import Path\n",
    "import itertools\n",
    "from itertools import product, combinations\n",
    "from sklearn.preprocessing import LabelEncoder\n",
    "from sklearn.model_selection import LeaveOneOut\n",
    "from sklearn.metrics import accuracy_score\n",
    "from wwknn import WWKNeighborsClassifier\n",
    "import joblib\n",
    "from joblib import dump,load\n"
   ]
  },
  {
   "cell_type": "markdown",
   "metadata": {},
   "source": [
    "Neucube File Prep"
   ]
  },
  {
   "cell_type": "code",
   "execution_count": null,
   "metadata": {},
   "outputs": [],
   "source": [
    "Directory = r'C:\\Users\\Lab Admin\\Documents\\NIC'\n",
    "\n",
    "pathlist = Path(Directory).rglob('*.easy')\n",
    "\n"
   ]
  },
  {
   "cell_type": "markdown",
   "metadata": {},
   "source": [
    "Get 2 seconds of data"
   ]
  },
  {
   "cell_type": "code",
   "execution_count": 2,
   "metadata": {},
   "outputs": [],
   "source": [
    "#Determines directory and pathlist\n",
    "\n",
    "Directory = r'C:\\Users\\Lab Admin\\Desktop\\ML test' #as needed\n",
    "\n",
    "pathlist = Path(Directory).rglob('*.csv')\n",
    "\n",
    "\n",
    "for path in pathlist:\n",
    "    path_in_str = str(path)# because path is object not string\n",
    "    filename = pathlib.Path(path_in_str).name\n",
    "    df = pd.read_csv(path, header = None)\n",
    "    x= df.values #gets a dataframe\n",
    "    x1 = x[30*500:] #starts data from the starting row at 30 seconds\n",
    "    x2 = x1[:2*500] #selects data until 2s mark\n",
    "    x3 = x2[:,~np.all(np.isnan(x2), axis=0)]\n",
    "    np.savetxt(filename+'cleaned'+'.csv', x3, fmt = '%s', delimiter = ',') #saves array to csv of the EEG data (30-32s)\n",
    "    np.savetxt('sam1'+'.csv', x3, fmt = '%s', delimiter = ',') #saves array to csv of the EEG data (30-32s)\n",
    "    np.savetxt('sam2'+'.csv', x3, fmt = '%s', delimiter = ',') #saves array to csv of the EEG data (30-32s)"
   ]
  },
  {
   "cell_type": "markdown",
   "metadata": {},
   "source": [
    "Now feed to neucube"
   ]
  },
  {
   "cell_type": "markdown",
   "metadata": {},
   "source": [
    "Now open the 1503 outlayer weight file, delete the row with all -5 and run the next code"
   ]
  },
  {
   "cell_type": "markdown",
   "metadata": {},
   "source": [
    "#### Prediction"
   ]
  },
  {
   "cell_type": "code",
   "execution_count": 4,
   "metadata": {},
   "outputs": [
    {
     "name": "stdout",
     "output_type": "stream",
     "text": [
      "[[-2.815  -2.3638 -2.74  ]\n",
      " [-2.815  -2.3638 -2.74  ]]\n",
      "[0 0]\n"
     ]
    }
   ],
   "source": [
    "#Determines directory and pathlist\n",
    "\n",
    "Directory = r'C:\\Users\\Lab Admin\\Desktop\\ML test' #as needed\n",
    "\n",
    "pathlist = Path(Directory).rglob('*.csv')\n",
    "\n",
    "\n",
    "for path in pathlist:\n",
    "    path_in_str = str(path)# because path is object not string\n",
    "    filename = pathlib.Path(path_in_str).name\n",
    "    df = pd.read_csv(path, header = None)\n",
    "    N = 1471\n",
    "    df = df.iloc[: , N:]   # Drop first N columns (SNNr Neurons) of dataframe \n",
    "    df.columns = ['P8', 'T8', 'CP6', 'FC6', 'F8', 'F4', 'C4', 'P4', 'AF4', \n",
    "    'Fp2', 'Fp1', 'AF3', 'Fz', 'FC2', 'Cz', 'CP2', 'PO3', 'O1', 'Oz', 'O2', \n",
    "    'PO4', 'Pz', 'CP1', 'FC1', 'P3', 'C3', 'F3', 'F7', 'FC5', 'CP5', 'T7', 'P7']  #sets column names\n",
    "    df1 = (df[['P4', 'Fz', 'Cz']]) #chooses specific columns (5 eeg channels for neucube training)\n",
    "    x= df1.values #gets a dataframe\n",
    "    print(x)\n",
    "    CSprediction = load('CS_prediction.pkl') #loads prediction model\n",
    "    compute = CSprediction.predict(x) #predicts based on sample data\n",
    "    print(compute)\n",
    "    #np.savetxt('predict.csv', x, fmt = '%s', delimiter = ',') #saves array to csv of the EEG data (90-92s)\n",
    "    #df1.to_csv('sam65.csv', index=False, header=None) #saves dataframe to csv named sam65\n",
    "    \n",
    "# transfer output to neucube for processing"
   ]
  },
  {
   "cell_type": "markdown",
   "metadata": {},
   "source": []
  },
  {
   "cell_type": "markdown",
   "metadata": {},
   "source": [
    "#### ECG data cleaner"
   ]
  },
  {
   "cell_type": "code",
   "execution_count": null,
   "metadata": {},
   "outputs": [],
   "source": [
    "Directory = '/Users/yaale244/Desktop/Machine learning workspace/working files 2' #change directory as needed\n",
    "\n",
    "pathlist = Path(Directory).rglob('*.csv')\n",
    "sortedfiles = []\n",
    "for sf in sorted(pathlist):\n",
    "    sortedfiles.append(sf) \n",
    "for path in sortedfiles:\n",
    "    path_in_str = str(path) # because path is object not string\n",
    "    filename = pathlib.Path(path).name #finds the file name\n",
    "    df = pd.read_csv(path_in_str, header = None) #reads the file\n",
    "    x= df.values #gets a dataframe\n",
    "    x1 = x[75*512:] #starts data from the starting row at 75 seconds\n",
    "    x2 = x1[:30*512] #selects data until 30s mark\n",
    "    x3 = (x2[:, ~np.isnan(x2).any(axis=0)]) #removes any Nans\n",
    "    np.savetxt('ECG kubios rdy.txt', x3, fmt = '%s', delimiter = ',') #saves a csv of the cleaned 30s ECG data (75-105s)\n",
    "\n",
    "#transfer output to kubios to get SNS index"
   ]
  },
  {
   "cell_type": "markdown",
   "metadata": {},
   "source": [
    "#### Train/retrain prediction model (outlayer weights + SNS)"
   ]
  },
  {
   "cell_type": "code",
   "execution_count": null,
   "metadata": {},
   "outputs": [],
   "source": [
    "#Fuse outlayerweights from neucube with SNS index\n",
    "\n",
    "Directory = r\"C:\\Users\\Lab Admin\\Desktop\\ML test\"\n",
    "pathlist = Path(Directory).rglob('*.csv')\n",
    "\n",
    "#reads class labels, code can now recognize the file\n",
    "y = pd.read_csv(\"tar_class_labels.csv\", header=None).values.flatten()\n",
    "le = LabelEncoder()\n",
    "y = le.fit_transform(y)\n",
    "y\n",
    "\n",
    "#determines parameters to iterate over\n",
    "\n",
    "parameters = {\"n_neighbors\" : [ 7 ],\n",
    " \"neighbors_type\"  : [ 'per_class' ],\n",
    "     \"p\"           : [ 2 ],\n",
    " \"initial_weights\" : [ 'snr' ],\n",
    " \"voting_type\"    : [ 'inverse' ],\n",
    " \"voting_weights\" : [ 'snr' ],\n",
    " \"n_features_to_select\" : [None] }\n",
    "\n",
    "param_grid = list(product(*parameters.values())) \n",
    "\n",
    "for path in pathlist:\n",
    "    path_in_str = str(path)# because path is object not string\n",
    "    filename = pathlib.Path(path_in_str).name\n",
    "    df = pd.read_csv(path, header = None)\n",
    "        \n",
    "    results = []\n",
    "    X = df.values \n",
    "\n",
    "    for grid in param_grid:\n",
    "        loo = LeaveOneOut()\n",
    "        loo.get_n_splits(X)\n",
    "        predictions = []\n",
    "        itr = 0       \n",
    "        \n",
    "        for train_index, test_index in loo.split(X):\n",
    "            \n",
    "            X_train, X_test = X[train_index], X[test_index]\n",
    "            y_train, y_test = y[train_index], y[test_index]\n",
    "                \n",
    "            m_wwknn = WWKNeighborsClassifier(n_neighbors=grid[0], neighbors_type=grid[1], p=grid[2], initial_weights=grid[3], voting_type=grid[4], voting_weights=grid[5]).fit(X_train,y_train) #sets parameters for classifer to run through\n",
    "            y_pred_wwknn = int(m_wwknn.predict(X_test)) #predicts based on X_test, added int so that predictions can be visualised in confusion matrix\n",
    "            predictions.append(y_pred_wwknn) # appends predicitions for every sample to a list\n",
    "\n",
    "\n",
    "        #if you put anything in this indented line, it will equate it to the last output in the for loop it aligns with, in this case its for every grid combo\n",
    "\n",
    "        percentage = (accuracy_score(y,predictions)) #creates overall accuracy score based on predictions for a set of parameters\n",
    "        done = (np.concatenate((percentage, grid, filename), axis = None)) # concatenates accuracy, parameters, channels , filename\n",
    "        results.append(done) #appends this current combination of parameters and channels to the results.\n",
    "\n",
    "print(results)\n",
    "y_true = y\n",
    "print(predictions)\n",
    "joblib.dump(m_wwknn, 'testCS_prediction.pkl', compress=9)"
   ]
  }
 ],
 "metadata": {
  "kernelspec": {
   "display_name": "base",
   "language": "python",
   "name": "python3"
  },
  "language_info": {
   "codemirror_mode": {
    "name": "ipython",
    "version": 3
   },
   "file_extension": ".py",
   "mimetype": "text/x-python",
   "name": "python",
   "nbconvert_exporter": "python",
   "pygments_lexer": "ipython3",
   "version": "3.8.8 (default, Apr 13 2021, 12:59:45) \n[Clang 10.0.0 ]"
  },
  "orig_nbformat": 4,
  "vscode": {
   "interpreter": {
    "hash": "40d3a090f54c6569ab1632332b64b2c03c39dcf918b08424e98f38b5ae0af88f"
   }
  }
 },
 "nbformat": 4,
 "nbformat_minor": 2
}
