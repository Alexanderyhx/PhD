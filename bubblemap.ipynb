{
 "cells": [
  {
   "cell_type": "markdown",
   "metadata": {},
   "source": [
    "## import"
   ]
  },
  {
   "cell_type": "code",
   "execution_count": 2,
   "metadata": {},
   "outputs": [],
   "source": [
    "\n",
    "import pandas as pd\n",
    "import numpy as np\n",
    "import pathlib\n",
    "from pathlib import Path\n",
    "from itertools import cycle\n",
    "import numpy as np\n",
    "import pandas as pd\n",
    "import matplotlib.pyplot as plt\n",
    "import seaborn as sns\n",
    "import circlify\n",
    "from matplotlib.ticker import PercentFormatter\n",
    "from matplotlib import ticker\n",
    "import matplotlib as mpl\n",
    "import matplotlib.cm as cm\n",
    "import plotly.express as px"
   ]
  },
  {
   "cell_type": "code",
   "execution_count": null,
   "metadata": {},
   "outputs": [],
   "source": [
    "\n",
    "Directory = '/Users/yaale244/Desktop/Alex19022023/CSBCIPredictionAlgorithm/tcDCS post stim/2s30-31npwcut/np' #change directory as needed\n",
    "\n",
    "pathlist = Path(Directory).rglob('*.csv')\n",
    "for path in pathlist:\n",
    "    path_in_str = str(path)# because path is object not string\n",
    "    filename = pathlib.Path(path_in_str).name\n",
    "    l = len(filename)\n",
    "    filename = filename[0:l-4]\n",
    "    df = pd.read_table(path, header = None, delimiter = ',') # reads table including first row\n",
    "    percentage = df[1].tolist()\n",
    "    print(percentage)\n",
    "\n",
    "    #get a color list, palette name can be changed\n",
    "    hexlist = []\n",
    "    for x in percentage:\n",
    "        norm = mpl.colors.Normalize(vmin=df[1].min(), vmax=df[1].max())\n",
    "        cmap = cm.coolwarm_r\n",
    "        # cmap = sns.diverging_palette(14,254, l=50, s=75, as_cmap=True)\n",
    "        m = cm.ScalarMappable(norm=norm, cmap=cmap)\n",
    "        rbga = (m.to_rgba(x))\n",
    "        hex = (mpl.colors.to_hex((rbga), keep_alpha=True))\n",
    "        hexlist.append(hex)\n",
    "    print(hexlist)\n",
    "    \n",
    "    # compute circle positions:\n",
    "    \n",
    "    circles = circlify.circlify(percentage, show_enclosure=False, target_enclosure=circlify.Circle(x=0, y=0))\n",
    "    circles.reverse()\n",
    "\n",
    "    #create a laebls list for each bubble \n",
    "    label = [i+'<br>'+str(k)+'%' for i,k in zip(df[0], df[1])]\n",
    "    fig, ax = plt.subplots(figsize=(14,14), facecolor='white')\n",
    "    ax.axis('off')\n",
    "    lim = max(max(abs(circle.x)+circle.r, abs(circle.y)+circle.r,) for circle in circles)\n",
    "    plt.xlim(-lim, lim)\n",
    "    plt.ylim(-lim, lim)\n",
    "\n",
    "    # print circles\n",
    "    \n",
    "    for circle, note, color in zip(circles, label, hexlist):\n",
    "        x, y, r = circle\n",
    "        ax.add_patch(plt.Circle((x, y), circle.r, alpha=1, color=color))\n",
    "        plt.annotate(note.replace('<br>','\\n'), (x,y), size=16, va='center', ha='center')\n",
    "    plt.xticks([])\n",
    "    plt.yticks([])\n",
    "    if df[1].max()!=43:\n",
    "        norm = plt.Normalize(df[1].min(), df[1].max())\n",
    "        tick_locator = ticker.MaxNLocator(nbins = 5)\n",
    "    else:\n",
    "        norm = plt.Normalize(df[1].min(), df[1].max()+5)\n",
    "        tick_locator = ticker.MaxNLocator(nbins = 10)\n",
    "    \n",
    "    sm = plt.cm.ScalarMappable(cmap=cmap, norm=norm)\n",
    "    sm.set_array([])\n",
    "    \n",
    "    cax = fig.add_axes([ax.get_position().x1+0.05, ax.get_position().y0, 0.03, ax.get_position().height / 2])\n",
    "    cb = ax.figure.colorbar(sm, cax=cax)\n",
    "    cb.locator = tick_locator\n",
    "    cb.update_ticks()\n",
    "    \n",
    "    plt.savefig(filename+'.tiff', dpi=600, bbox_inches='tight')\n",
    "    plt.show()\n",
    "    "
   ]
  },
  {
   "cell_type": "code",
   "execution_count": 26,
   "metadata": {},
   "outputs": [
    {
     "name": "stdout",
     "output_type": "stream",
     "text": [
      "1placebobase\n"
     ]
    },
    {
     "data": {
      "application/vnd.plotly.v1+json": {
       "config": {
        "plotlyServerURL": "https://plot.ly"
       },
       "data": [
        {
         "hovertemplate": "region=%{text}<br>percentage=%{marker.color}<extra></extra>",
         "legendgroup": "",
         "marker": {
          "color": [
           7,
           5,
           1,
           2,
           6,
           7,
           3,
           1,
           1,
           5,
           4,
           1,
           4,
           3,
           3,
           2,
           0,
           9,
           8,
           3,
           1,
           1,
           1,
           3,
           1,
           2,
           2,
           5,
           1,
           1,
           5,
           1
          ],
          "coloraxis": "coloraxis",
          "size": [
           7,
           5,
           1,
           2,
           6,
           7,
           3,
           1,
           1,
           5,
           4,
           1,
           4,
           3,
           3,
           2,
           0,
           9,
           8,
           3,
           1,
           1,
           1,
           3,
           1,
           2,
           2,
           5,
           1,
           1,
           5,
           1
          ],
          "sizemode": "area",
          "sizeref": 0.0036,
          "symbol": "circle"
         },
         "mode": "markers+text",
         "name": "",
         "orientation": "v",
         "showlegend": false,
         "text": [
          "P8",
          "T8",
          "CP6",
          "FC6",
          "F8",
          "F4",
          "C4",
          "P4",
          "AF4",
          "Fp2",
          "Fp1",
          "AF3",
          "Fz",
          "FC2",
          "Cz",
          "CP2",
          "PO3",
          "O1",
          "Oz",
          "O2",
          "PO4",
          "Pz",
          "CP1",
          "FC1",
          "P3",
          "C3",
          "F3",
          "F7",
          "FC5",
          "CP5",
          "T7",
          "P7"
         ],
         "textposition": "top center",
         "type": "scatter",
         "x": [
          "P8",
          "T8",
          "CP6",
          "FC6",
          "F8",
          "F4",
          "C4",
          "P4",
          "AF4",
          "Fp2",
          "Fp1",
          "AF3",
          "Fz",
          "FC2",
          "Cz",
          "CP2",
          "PO3",
          "O1",
          "Oz",
          "O2",
          "PO4",
          "Pz",
          "CP1",
          "FC1",
          "P3",
          "C3",
          "F3",
          "F7",
          "FC5",
          "CP5",
          "T7",
          "P7"
         ],
         "xaxis": "x",
         "y": [
          7,
          5,
          1,
          2,
          6,
          7,
          3,
          1,
          1,
          5,
          4,
          1,
          4,
          3,
          3,
          2,
          0,
          9,
          8,
          3,
          1,
          1,
          1,
          3,
          1,
          2,
          2,
          5,
          1,
          1,
          5,
          1
         ],
         "yaxis": "y"
        }
       ],
       "layout": {
        "coloraxis": {
         "colorbar": {
          "title": {
           "text": "percentage"
          }
         },
         "colorscale": [
          [
           0,
           "#0d0887"
          ],
          [
           0.1111111111111111,
           "#46039f"
          ],
          [
           0.2222222222222222,
           "#7201a8"
          ],
          [
           0.3333333333333333,
           "#9c179e"
          ],
          [
           0.4444444444444444,
           "#bd3786"
          ],
          [
           0.5555555555555556,
           "#d8576b"
          ],
          [
           0.6666666666666666,
           "#ed7953"
          ],
          [
           0.7777777777777778,
           "#fb9f3a"
          ],
          [
           0.8888888888888888,
           "#fdca26"
          ],
          [
           1,
           "#f0f921"
          ]
         ]
        },
        "font": {
         "color": "black",
         "family": "Courier New, monospace",
         "size": 12
        },
        "height": 500,
        "legend": {
         "itemsizing": "constant",
         "tracegroupgap": 0
        },
        "margin": {
         "b": 50,
         "l": 80,
         "r": 50,
         "t": 80
        },
        "template": {
         "data": {
          "bar": [
           {
            "error_x": {
             "color": "#2a3f5f"
            },
            "error_y": {
             "color": "#2a3f5f"
            },
            "marker": {
             "line": {
              "color": "#E5ECF6",
              "width": 0.5
             },
             "pattern": {
              "fillmode": "overlay",
              "size": 10,
              "solidity": 0.2
             }
            },
            "type": "bar"
           }
          ],
          "barpolar": [
           {
            "marker": {
             "line": {
              "color": "#E5ECF6",
              "width": 0.5
             },
             "pattern": {
              "fillmode": "overlay",
              "size": 10,
              "solidity": 0.2
             }
            },
            "type": "barpolar"
           }
          ],
          "carpet": [
           {
            "aaxis": {
             "endlinecolor": "#2a3f5f",
             "gridcolor": "white",
             "linecolor": "white",
             "minorgridcolor": "white",
             "startlinecolor": "#2a3f5f"
            },
            "baxis": {
             "endlinecolor": "#2a3f5f",
             "gridcolor": "white",
             "linecolor": "white",
             "minorgridcolor": "white",
             "startlinecolor": "#2a3f5f"
            },
            "type": "carpet"
           }
          ],
          "choropleth": [
           {
            "colorbar": {
             "outlinewidth": 0,
             "ticks": ""
            },
            "type": "choropleth"
           }
          ],
          "contour": [
           {
            "colorbar": {
             "outlinewidth": 0,
             "ticks": ""
            },
            "colorscale": [
             [
              0,
              "#0d0887"
             ],
             [
              0.1111111111111111,
              "#46039f"
             ],
             [
              0.2222222222222222,
              "#7201a8"
             ],
             [
              0.3333333333333333,
              "#9c179e"
             ],
             [
              0.4444444444444444,
              "#bd3786"
             ],
             [
              0.5555555555555556,
              "#d8576b"
             ],
             [
              0.6666666666666666,
              "#ed7953"
             ],
             [
              0.7777777777777778,
              "#fb9f3a"
             ],
             [
              0.8888888888888888,
              "#fdca26"
             ],
             [
              1,
              "#f0f921"
             ]
            ],
            "type": "contour"
           }
          ],
          "contourcarpet": [
           {
            "colorbar": {
             "outlinewidth": 0,
             "ticks": ""
            },
            "type": "contourcarpet"
           }
          ],
          "heatmap": [
           {
            "colorbar": {
             "outlinewidth": 0,
             "ticks": ""
            },
            "colorscale": [
             [
              0,
              "#0d0887"
             ],
             [
              0.1111111111111111,
              "#46039f"
             ],
             [
              0.2222222222222222,
              "#7201a8"
             ],
             [
              0.3333333333333333,
              "#9c179e"
             ],
             [
              0.4444444444444444,
              "#bd3786"
             ],
             [
              0.5555555555555556,
              "#d8576b"
             ],
             [
              0.6666666666666666,
              "#ed7953"
             ],
             [
              0.7777777777777778,
              "#fb9f3a"
             ],
             [
              0.8888888888888888,
              "#fdca26"
             ],
             [
              1,
              "#f0f921"
             ]
            ],
            "type": "heatmap"
           }
          ],
          "heatmapgl": [
           {
            "colorbar": {
             "outlinewidth": 0,
             "ticks": ""
            },
            "colorscale": [
             [
              0,
              "#0d0887"
             ],
             [
              0.1111111111111111,
              "#46039f"
             ],
             [
              0.2222222222222222,
              "#7201a8"
             ],
             [
              0.3333333333333333,
              "#9c179e"
             ],
             [
              0.4444444444444444,
              "#bd3786"
             ],
             [
              0.5555555555555556,
              "#d8576b"
             ],
             [
              0.6666666666666666,
              "#ed7953"
             ],
             [
              0.7777777777777778,
              "#fb9f3a"
             ],
             [
              0.8888888888888888,
              "#fdca26"
             ],
             [
              1,
              "#f0f921"
             ]
            ],
            "type": "heatmapgl"
           }
          ],
          "histogram": [
           {
            "marker": {
             "pattern": {
              "fillmode": "overlay",
              "size": 10,
              "solidity": 0.2
             }
            },
            "type": "histogram"
           }
          ],
          "histogram2d": [
           {
            "colorbar": {
             "outlinewidth": 0,
             "ticks": ""
            },
            "colorscale": [
             [
              0,
              "#0d0887"
             ],
             [
              0.1111111111111111,
              "#46039f"
             ],
             [
              0.2222222222222222,
              "#7201a8"
             ],
             [
              0.3333333333333333,
              "#9c179e"
             ],
             [
              0.4444444444444444,
              "#bd3786"
             ],
             [
              0.5555555555555556,
              "#d8576b"
             ],
             [
              0.6666666666666666,
              "#ed7953"
             ],
             [
              0.7777777777777778,
              "#fb9f3a"
             ],
             [
              0.8888888888888888,
              "#fdca26"
             ],
             [
              1,
              "#f0f921"
             ]
            ],
            "type": "histogram2d"
           }
          ],
          "histogram2dcontour": [
           {
            "colorbar": {
             "outlinewidth": 0,
             "ticks": ""
            },
            "colorscale": [
             [
              0,
              "#0d0887"
             ],
             [
              0.1111111111111111,
              "#46039f"
             ],
             [
              0.2222222222222222,
              "#7201a8"
             ],
             [
              0.3333333333333333,
              "#9c179e"
             ],
             [
              0.4444444444444444,
              "#bd3786"
             ],
             [
              0.5555555555555556,
              "#d8576b"
             ],
             [
              0.6666666666666666,
              "#ed7953"
             ],
             [
              0.7777777777777778,
              "#fb9f3a"
             ],
             [
              0.8888888888888888,
              "#fdca26"
             ],
             [
              1,
              "#f0f921"
             ]
            ],
            "type": "histogram2dcontour"
           }
          ],
          "mesh3d": [
           {
            "colorbar": {
             "outlinewidth": 0,
             "ticks": ""
            },
            "type": "mesh3d"
           }
          ],
          "parcoords": [
           {
            "line": {
             "colorbar": {
              "outlinewidth": 0,
              "ticks": ""
             }
            },
            "type": "parcoords"
           }
          ],
          "pie": [
           {
            "automargin": true,
            "type": "pie"
           }
          ],
          "scatter": [
           {
            "fillpattern": {
             "fillmode": "overlay",
             "size": 10,
             "solidity": 0.2
            },
            "type": "scatter"
           }
          ],
          "scatter3d": [
           {
            "line": {
             "colorbar": {
              "outlinewidth": 0,
              "ticks": ""
             }
            },
            "marker": {
             "colorbar": {
              "outlinewidth": 0,
              "ticks": ""
             }
            },
            "type": "scatter3d"
           }
          ],
          "scattercarpet": [
           {
            "marker": {
             "colorbar": {
              "outlinewidth": 0,
              "ticks": ""
             }
            },
            "type": "scattercarpet"
           }
          ],
          "scattergeo": [
           {
            "marker": {
             "colorbar": {
              "outlinewidth": 0,
              "ticks": ""
             }
            },
            "type": "scattergeo"
           }
          ],
          "scattergl": [
           {
            "marker": {
             "colorbar": {
              "outlinewidth": 0,
              "ticks": ""
             }
            },
            "type": "scattergl"
           }
          ],
          "scattermapbox": [
           {
            "marker": {
             "colorbar": {
              "outlinewidth": 0,
              "ticks": ""
             }
            },
            "type": "scattermapbox"
           }
          ],
          "scatterpolar": [
           {
            "marker": {
             "colorbar": {
              "outlinewidth": 0,
              "ticks": ""
             }
            },
            "type": "scatterpolar"
           }
          ],
          "scatterpolargl": [
           {
            "marker": {
             "colorbar": {
              "outlinewidth": 0,
              "ticks": ""
             }
            },
            "type": "scatterpolargl"
           }
          ],
          "scatterternary": [
           {
            "marker": {
             "colorbar": {
              "outlinewidth": 0,
              "ticks": ""
             }
            },
            "type": "scatterternary"
           }
          ],
          "surface": [
           {
            "colorbar": {
             "outlinewidth": 0,
             "ticks": ""
            },
            "colorscale": [
             [
              0,
              "#0d0887"
             ],
             [
              0.1111111111111111,
              "#46039f"
             ],
             [
              0.2222222222222222,
              "#7201a8"
             ],
             [
              0.3333333333333333,
              "#9c179e"
             ],
             [
              0.4444444444444444,
              "#bd3786"
             ],
             [
              0.5555555555555556,
              "#d8576b"
             ],
             [
              0.6666666666666666,
              "#ed7953"
             ],
             [
              0.7777777777777778,
              "#fb9f3a"
             ],
             [
              0.8888888888888888,
              "#fdca26"
             ],
             [
              1,
              "#f0f921"
             ]
            ],
            "type": "surface"
           }
          ],
          "table": [
           {
            "cells": {
             "fill": {
              "color": "#EBF0F8"
             },
             "line": {
              "color": "white"
             }
            },
            "header": {
             "fill": {
              "color": "#C8D4E3"
             },
             "line": {
              "color": "white"
             }
            },
            "type": "table"
           }
          ]
         },
         "layout": {
          "annotationdefaults": {
           "arrowcolor": "#2a3f5f",
           "arrowhead": 0,
           "arrowwidth": 1
          },
          "autotypenumbers": "strict",
          "coloraxis": {
           "colorbar": {
            "outlinewidth": 0,
            "ticks": ""
           }
          },
          "colorscale": {
           "diverging": [
            [
             0,
             "#8e0152"
            ],
            [
             0.1,
             "#c51b7d"
            ],
            [
             0.2,
             "#de77ae"
            ],
            [
             0.3,
             "#f1b6da"
            ],
            [
             0.4,
             "#fde0ef"
            ],
            [
             0.5,
             "#f7f7f7"
            ],
            [
             0.6,
             "#e6f5d0"
            ],
            [
             0.7,
             "#b8e186"
            ],
            [
             0.8,
             "#7fbc41"
            ],
            [
             0.9,
             "#4d9221"
            ],
            [
             1,
             "#276419"
            ]
           ],
           "sequential": [
            [
             0,
             "#0d0887"
            ],
            [
             0.1111111111111111,
             "#46039f"
            ],
            [
             0.2222222222222222,
             "#7201a8"
            ],
            [
             0.3333333333333333,
             "#9c179e"
            ],
            [
             0.4444444444444444,
             "#bd3786"
            ],
            [
             0.5555555555555556,
             "#d8576b"
            ],
            [
             0.6666666666666666,
             "#ed7953"
            ],
            [
             0.7777777777777778,
             "#fb9f3a"
            ],
            [
             0.8888888888888888,
             "#fdca26"
            ],
            [
             1,
             "#f0f921"
            ]
           ],
           "sequentialminus": [
            [
             0,
             "#0d0887"
            ],
            [
             0.1111111111111111,
             "#46039f"
            ],
            [
             0.2222222222222222,
             "#7201a8"
            ],
            [
             0.3333333333333333,
             "#9c179e"
            ],
            [
             0.4444444444444444,
             "#bd3786"
            ],
            [
             0.5555555555555556,
             "#d8576b"
            ],
            [
             0.6666666666666666,
             "#ed7953"
            ],
            [
             0.7777777777777778,
             "#fb9f3a"
            ],
            [
             0.8888888888888888,
             "#fdca26"
            ],
            [
             1,
             "#f0f921"
            ]
           ]
          },
          "colorway": [
           "#636efa",
           "#EF553B",
           "#00cc96",
           "#ab63fa",
           "#FFA15A",
           "#19d3f3",
           "#FF6692",
           "#B6E880",
           "#FF97FF",
           "#FECB52"
          ],
          "font": {
           "color": "#2a3f5f"
          },
          "geo": {
           "bgcolor": "white",
           "lakecolor": "white",
           "landcolor": "#E5ECF6",
           "showlakes": true,
           "showland": true,
           "subunitcolor": "white"
          },
          "hoverlabel": {
           "align": "left"
          },
          "hovermode": "closest",
          "mapbox": {
           "style": "light"
          },
          "paper_bgcolor": "white",
          "plot_bgcolor": "#E5ECF6",
          "polar": {
           "angularaxis": {
            "gridcolor": "white",
            "linecolor": "white",
            "ticks": ""
           },
           "bgcolor": "#E5ECF6",
           "radialaxis": {
            "gridcolor": "white",
            "linecolor": "white",
            "ticks": ""
           }
          },
          "scene": {
           "xaxis": {
            "backgroundcolor": "#E5ECF6",
            "gridcolor": "white",
            "gridwidth": 2,
            "linecolor": "white",
            "showbackground": true,
            "ticks": "",
            "zerolinecolor": "white"
           },
           "yaxis": {
            "backgroundcolor": "#E5ECF6",
            "gridcolor": "white",
            "gridwidth": 2,
            "linecolor": "white",
            "showbackground": true,
            "ticks": "",
            "zerolinecolor": "white"
           },
           "zaxis": {
            "backgroundcolor": "#E5ECF6",
            "gridcolor": "white",
            "gridwidth": 2,
            "linecolor": "white",
            "showbackground": true,
            "ticks": "",
            "zerolinecolor": "white"
           }
          },
          "shapedefaults": {
           "line": {
            "color": "#2a3f5f"
           }
          },
          "ternary": {
           "aaxis": {
            "gridcolor": "white",
            "linecolor": "white",
            "ticks": ""
           },
           "baxis": {
            "gridcolor": "white",
            "linecolor": "white",
            "ticks": ""
           },
           "bgcolor": "#E5ECF6",
           "caxis": {
            "gridcolor": "white",
            "linecolor": "white",
            "ticks": ""
           }
          },
          "title": {
           "x": 0.05
          },
          "xaxis": {
           "automargin": true,
           "gridcolor": "white",
           "linecolor": "white",
           "ticks": "",
           "title": {
            "standoff": 15
           },
           "zerolinecolor": "white",
           "zerolinewidth": 2
          },
          "yaxis": {
           "automargin": true,
           "gridcolor": "white",
           "linecolor": "white",
           "ticks": "",
           "title": {
            "standoff": 15
           },
           "zerolinecolor": "white",
           "zerolinewidth": 2
          }
         }
        },
        "title": {
         "text": ""
        },
        "width": 1050,
        "xaxis": {
         "anchor": "y",
         "domain": [
          0,
          1
         ],
         "tickangle": -90,
         "tickfont": {
          "size": 14
         },
         "title": {
          "text": "Regions"
         }
        },
        "yaxis": {
         "anchor": "x",
         "domain": [
          0,
          1
         ],
         "range": [
          0,
          14
         ],
         "title": {
          "text": "Neuron Proportion"
         }
        }
       }
      }
     },
     "metadata": {},
     "output_type": "display_data"
    },
    {
     "name": "stdout",
     "output_type": "stream",
     "text": [
      "2anodalbase\n"
     ]
    },
    {
     "data": {
      "application/vnd.plotly.v1+json": {
       "config": {
        "plotlyServerURL": "https://plot.ly"
       },
       "data": [
        {
         "hovertemplate": "region=%{text}<br>percentage=%{marker.color}<extra></extra>",
         "legendgroup": "",
         "marker": {
          "color": [
           7,
           4,
           3,
           4,
           8,
           2,
           2,
           3,
           2,
           5,
           4,
           1,
           4,
           3,
           4,
           1,
           0,
           9,
           5,
           4,
           1,
           1,
           2,
           3,
           1,
           2,
           1,
           7,
           1,
           1,
           6,
           1
          ],
          "coloraxis": "coloraxis",
          "size": [
           7,
           4,
           3,
           4,
           8,
           2,
           2,
           3,
           2,
           5,
           4,
           1,
           4,
           3,
           4,
           1,
           0,
           9,
           5,
           4,
           1,
           1,
           2,
           3,
           1,
           2,
           1,
           7,
           1,
           1,
           6,
           1
          ],
          "sizemode": "area",
          "sizeref": 0.0036,
          "symbol": "circle"
         },
         "mode": "markers+text",
         "name": "",
         "orientation": "v",
         "showlegend": false,
         "text": [
          "P8",
          "T8",
          "CP6",
          "FC6",
          "F8",
          "F4",
          "C4",
          "P4",
          "AF4",
          "Fp2",
          "Fp1",
          "AF3",
          "Fz",
          "FC2",
          "Cz",
          "CP2",
          "PO3",
          "O1",
          "Oz",
          "O2",
          "PO4",
          "Pz",
          "CP1",
          "FC1",
          "P3",
          "C3",
          "F3",
          "F7",
          "FC5",
          "CP5",
          "T7",
          "P7"
         ],
         "textposition": "top center",
         "type": "scatter",
         "x": [
          "P8",
          "T8",
          "CP6",
          "FC6",
          "F8",
          "F4",
          "C4",
          "P4",
          "AF4",
          "Fp2",
          "Fp1",
          "AF3",
          "Fz",
          "FC2",
          "Cz",
          "CP2",
          "PO3",
          "O1",
          "Oz",
          "O2",
          "PO4",
          "Pz",
          "CP1",
          "FC1",
          "P3",
          "C3",
          "F3",
          "F7",
          "FC5",
          "CP5",
          "T7",
          "P7"
         ],
         "xaxis": "x",
         "y": [
          7,
          4,
          3,
          4,
          8,
          2,
          2,
          3,
          2,
          5,
          4,
          1,
          4,
          3,
          4,
          1,
          0,
          9,
          5,
          4,
          1,
          1,
          2,
          3,
          1,
          2,
          1,
          7,
          1,
          1,
          6,
          1
         ],
         "yaxis": "y"
        }
       ],
       "layout": {
        "coloraxis": {
         "colorbar": {
          "title": {
           "text": "percentage"
          }
         },
         "colorscale": [
          [
           0,
           "#0d0887"
          ],
          [
           0.1111111111111111,
           "#46039f"
          ],
          [
           0.2222222222222222,
           "#7201a8"
          ],
          [
           0.3333333333333333,
           "#9c179e"
          ],
          [
           0.4444444444444444,
           "#bd3786"
          ],
          [
           0.5555555555555556,
           "#d8576b"
          ],
          [
           0.6666666666666666,
           "#ed7953"
          ],
          [
           0.7777777777777778,
           "#fb9f3a"
          ],
          [
           0.8888888888888888,
           "#fdca26"
          ],
          [
           1,
           "#f0f921"
          ]
         ]
        },
        "font": {
         "color": "black",
         "family": "Courier New, monospace",
         "size": 12
        },
        "height": 500,
        "legend": {
         "itemsizing": "constant",
         "tracegroupgap": 0
        },
        "margin": {
         "b": 50,
         "l": 80,
         "r": 50,
         "t": 80
        },
        "template": {
         "data": {
          "bar": [
           {
            "error_x": {
             "color": "#2a3f5f"
            },
            "error_y": {
             "color": "#2a3f5f"
            },
            "marker": {
             "line": {
              "color": "#E5ECF6",
              "width": 0.5
             },
             "pattern": {
              "fillmode": "overlay",
              "size": 10,
              "solidity": 0.2
             }
            },
            "type": "bar"
           }
          ],
          "barpolar": [
           {
            "marker": {
             "line": {
              "color": "#E5ECF6",
              "width": 0.5
             },
             "pattern": {
              "fillmode": "overlay",
              "size": 10,
              "solidity": 0.2
             }
            },
            "type": "barpolar"
           }
          ],
          "carpet": [
           {
            "aaxis": {
             "endlinecolor": "#2a3f5f",
             "gridcolor": "white",
             "linecolor": "white",
             "minorgridcolor": "white",
             "startlinecolor": "#2a3f5f"
            },
            "baxis": {
             "endlinecolor": "#2a3f5f",
             "gridcolor": "white",
             "linecolor": "white",
             "minorgridcolor": "white",
             "startlinecolor": "#2a3f5f"
            },
            "type": "carpet"
           }
          ],
          "choropleth": [
           {
            "colorbar": {
             "outlinewidth": 0,
             "ticks": ""
            },
            "type": "choropleth"
           }
          ],
          "contour": [
           {
            "colorbar": {
             "outlinewidth": 0,
             "ticks": ""
            },
            "colorscale": [
             [
              0,
              "#0d0887"
             ],
             [
              0.1111111111111111,
              "#46039f"
             ],
             [
              0.2222222222222222,
              "#7201a8"
             ],
             [
              0.3333333333333333,
              "#9c179e"
             ],
             [
              0.4444444444444444,
              "#bd3786"
             ],
             [
              0.5555555555555556,
              "#d8576b"
             ],
             [
              0.6666666666666666,
              "#ed7953"
             ],
             [
              0.7777777777777778,
              "#fb9f3a"
             ],
             [
              0.8888888888888888,
              "#fdca26"
             ],
             [
              1,
              "#f0f921"
             ]
            ],
            "type": "contour"
           }
          ],
          "contourcarpet": [
           {
            "colorbar": {
             "outlinewidth": 0,
             "ticks": ""
            },
            "type": "contourcarpet"
           }
          ],
          "heatmap": [
           {
            "colorbar": {
             "outlinewidth": 0,
             "ticks": ""
            },
            "colorscale": [
             [
              0,
              "#0d0887"
             ],
             [
              0.1111111111111111,
              "#46039f"
             ],
             [
              0.2222222222222222,
              "#7201a8"
             ],
             [
              0.3333333333333333,
              "#9c179e"
             ],
             [
              0.4444444444444444,
              "#bd3786"
             ],
             [
              0.5555555555555556,
              "#d8576b"
             ],
             [
              0.6666666666666666,
              "#ed7953"
             ],
             [
              0.7777777777777778,
              "#fb9f3a"
             ],
             [
              0.8888888888888888,
              "#fdca26"
             ],
             [
              1,
              "#f0f921"
             ]
            ],
            "type": "heatmap"
           }
          ],
          "heatmapgl": [
           {
            "colorbar": {
             "outlinewidth": 0,
             "ticks": ""
            },
            "colorscale": [
             [
              0,
              "#0d0887"
             ],
             [
              0.1111111111111111,
              "#46039f"
             ],
             [
              0.2222222222222222,
              "#7201a8"
             ],
             [
              0.3333333333333333,
              "#9c179e"
             ],
             [
              0.4444444444444444,
              "#bd3786"
             ],
             [
              0.5555555555555556,
              "#d8576b"
             ],
             [
              0.6666666666666666,
              "#ed7953"
             ],
             [
              0.7777777777777778,
              "#fb9f3a"
             ],
             [
              0.8888888888888888,
              "#fdca26"
             ],
             [
              1,
              "#f0f921"
             ]
            ],
            "type": "heatmapgl"
           }
          ],
          "histogram": [
           {
            "marker": {
             "pattern": {
              "fillmode": "overlay",
              "size": 10,
              "solidity": 0.2
             }
            },
            "type": "histogram"
           }
          ],
          "histogram2d": [
           {
            "colorbar": {
             "outlinewidth": 0,
             "ticks": ""
            },
            "colorscale": [
             [
              0,
              "#0d0887"
             ],
             [
              0.1111111111111111,
              "#46039f"
             ],
             [
              0.2222222222222222,
              "#7201a8"
             ],
             [
              0.3333333333333333,
              "#9c179e"
             ],
             [
              0.4444444444444444,
              "#bd3786"
             ],
             [
              0.5555555555555556,
              "#d8576b"
             ],
             [
              0.6666666666666666,
              "#ed7953"
             ],
             [
              0.7777777777777778,
              "#fb9f3a"
             ],
             [
              0.8888888888888888,
              "#fdca26"
             ],
             [
              1,
              "#f0f921"
             ]
            ],
            "type": "histogram2d"
           }
          ],
          "histogram2dcontour": [
           {
            "colorbar": {
             "outlinewidth": 0,
             "ticks": ""
            },
            "colorscale": [
             [
              0,
              "#0d0887"
             ],
             [
              0.1111111111111111,
              "#46039f"
             ],
             [
              0.2222222222222222,
              "#7201a8"
             ],
             [
              0.3333333333333333,
              "#9c179e"
             ],
             [
              0.4444444444444444,
              "#bd3786"
             ],
             [
              0.5555555555555556,
              "#d8576b"
             ],
             [
              0.6666666666666666,
              "#ed7953"
             ],
             [
              0.7777777777777778,
              "#fb9f3a"
             ],
             [
              0.8888888888888888,
              "#fdca26"
             ],
             [
              1,
              "#f0f921"
             ]
            ],
            "type": "histogram2dcontour"
           }
          ],
          "mesh3d": [
           {
            "colorbar": {
             "outlinewidth": 0,
             "ticks": ""
            },
            "type": "mesh3d"
           }
          ],
          "parcoords": [
           {
            "line": {
             "colorbar": {
              "outlinewidth": 0,
              "ticks": ""
             }
            },
            "type": "parcoords"
           }
          ],
          "pie": [
           {
            "automargin": true,
            "type": "pie"
           }
          ],
          "scatter": [
           {
            "fillpattern": {
             "fillmode": "overlay",
             "size": 10,
             "solidity": 0.2
            },
            "type": "scatter"
           }
          ],
          "scatter3d": [
           {
            "line": {
             "colorbar": {
              "outlinewidth": 0,
              "ticks": ""
             }
            },
            "marker": {
             "colorbar": {
              "outlinewidth": 0,
              "ticks": ""
             }
            },
            "type": "scatter3d"
           }
          ],
          "scattercarpet": [
           {
            "marker": {
             "colorbar": {
              "outlinewidth": 0,
              "ticks": ""
             }
            },
            "type": "scattercarpet"
           }
          ],
          "scattergeo": [
           {
            "marker": {
             "colorbar": {
              "outlinewidth": 0,
              "ticks": ""
             }
            },
            "type": "scattergeo"
           }
          ],
          "scattergl": [
           {
            "marker": {
             "colorbar": {
              "outlinewidth": 0,
              "ticks": ""
             }
            },
            "type": "scattergl"
           }
          ],
          "scattermapbox": [
           {
            "marker": {
             "colorbar": {
              "outlinewidth": 0,
              "ticks": ""
             }
            },
            "type": "scattermapbox"
           }
          ],
          "scatterpolar": [
           {
            "marker": {
             "colorbar": {
              "outlinewidth": 0,
              "ticks": ""
             }
            },
            "type": "scatterpolar"
           }
          ],
          "scatterpolargl": [
           {
            "marker": {
             "colorbar": {
              "outlinewidth": 0,
              "ticks": ""
             }
            },
            "type": "scatterpolargl"
           }
          ],
          "scatterternary": [
           {
            "marker": {
             "colorbar": {
              "outlinewidth": 0,
              "ticks": ""
             }
            },
            "type": "scatterternary"
           }
          ],
          "surface": [
           {
            "colorbar": {
             "outlinewidth": 0,
             "ticks": ""
            },
            "colorscale": [
             [
              0,
              "#0d0887"
             ],
             [
              0.1111111111111111,
              "#46039f"
             ],
             [
              0.2222222222222222,
              "#7201a8"
             ],
             [
              0.3333333333333333,
              "#9c179e"
             ],
             [
              0.4444444444444444,
              "#bd3786"
             ],
             [
              0.5555555555555556,
              "#d8576b"
             ],
             [
              0.6666666666666666,
              "#ed7953"
             ],
             [
              0.7777777777777778,
              "#fb9f3a"
             ],
             [
              0.8888888888888888,
              "#fdca26"
             ],
             [
              1,
              "#f0f921"
             ]
            ],
            "type": "surface"
           }
          ],
          "table": [
           {
            "cells": {
             "fill": {
              "color": "#EBF0F8"
             },
             "line": {
              "color": "white"
             }
            },
            "header": {
             "fill": {
              "color": "#C8D4E3"
             },
             "line": {
              "color": "white"
             }
            },
            "type": "table"
           }
          ]
         },
         "layout": {
          "annotationdefaults": {
           "arrowcolor": "#2a3f5f",
           "arrowhead": 0,
           "arrowwidth": 1
          },
          "autotypenumbers": "strict",
          "coloraxis": {
           "colorbar": {
            "outlinewidth": 0,
            "ticks": ""
           }
          },
          "colorscale": {
           "diverging": [
            [
             0,
             "#8e0152"
            ],
            [
             0.1,
             "#c51b7d"
            ],
            [
             0.2,
             "#de77ae"
            ],
            [
             0.3,
             "#f1b6da"
            ],
            [
             0.4,
             "#fde0ef"
            ],
            [
             0.5,
             "#f7f7f7"
            ],
            [
             0.6,
             "#e6f5d0"
            ],
            [
             0.7,
             "#b8e186"
            ],
            [
             0.8,
             "#7fbc41"
            ],
            [
             0.9,
             "#4d9221"
            ],
            [
             1,
             "#276419"
            ]
           ],
           "sequential": [
            [
             0,
             "#0d0887"
            ],
            [
             0.1111111111111111,
             "#46039f"
            ],
            [
             0.2222222222222222,
             "#7201a8"
            ],
            [
             0.3333333333333333,
             "#9c179e"
            ],
            [
             0.4444444444444444,
             "#bd3786"
            ],
            [
             0.5555555555555556,
             "#d8576b"
            ],
            [
             0.6666666666666666,
             "#ed7953"
            ],
            [
             0.7777777777777778,
             "#fb9f3a"
            ],
            [
             0.8888888888888888,
             "#fdca26"
            ],
            [
             1,
             "#f0f921"
            ]
           ],
           "sequentialminus": [
            [
             0,
             "#0d0887"
            ],
            [
             0.1111111111111111,
             "#46039f"
            ],
            [
             0.2222222222222222,
             "#7201a8"
            ],
            [
             0.3333333333333333,
             "#9c179e"
            ],
            [
             0.4444444444444444,
             "#bd3786"
            ],
            [
             0.5555555555555556,
             "#d8576b"
            ],
            [
             0.6666666666666666,
             "#ed7953"
            ],
            [
             0.7777777777777778,
             "#fb9f3a"
            ],
            [
             0.8888888888888888,
             "#fdca26"
            ],
            [
             1,
             "#f0f921"
            ]
           ]
          },
          "colorway": [
           "#636efa",
           "#EF553B",
           "#00cc96",
           "#ab63fa",
           "#FFA15A",
           "#19d3f3",
           "#FF6692",
           "#B6E880",
           "#FF97FF",
           "#FECB52"
          ],
          "font": {
           "color": "#2a3f5f"
          },
          "geo": {
           "bgcolor": "white",
           "lakecolor": "white",
           "landcolor": "#E5ECF6",
           "showlakes": true,
           "showland": true,
           "subunitcolor": "white"
          },
          "hoverlabel": {
           "align": "left"
          },
          "hovermode": "closest",
          "mapbox": {
           "style": "light"
          },
          "paper_bgcolor": "white",
          "plot_bgcolor": "#E5ECF6",
          "polar": {
           "angularaxis": {
            "gridcolor": "white",
            "linecolor": "white",
            "ticks": ""
           },
           "bgcolor": "#E5ECF6",
           "radialaxis": {
            "gridcolor": "white",
            "linecolor": "white",
            "ticks": ""
           }
          },
          "scene": {
           "xaxis": {
            "backgroundcolor": "#E5ECF6",
            "gridcolor": "white",
            "gridwidth": 2,
            "linecolor": "white",
            "showbackground": true,
            "ticks": "",
            "zerolinecolor": "white"
           },
           "yaxis": {
            "backgroundcolor": "#E5ECF6",
            "gridcolor": "white",
            "gridwidth": 2,
            "linecolor": "white",
            "showbackground": true,
            "ticks": "",
            "zerolinecolor": "white"
           },
           "zaxis": {
            "backgroundcolor": "#E5ECF6",
            "gridcolor": "white",
            "gridwidth": 2,
            "linecolor": "white",
            "showbackground": true,
            "ticks": "",
            "zerolinecolor": "white"
           }
          },
          "shapedefaults": {
           "line": {
            "color": "#2a3f5f"
           }
          },
          "ternary": {
           "aaxis": {
            "gridcolor": "white",
            "linecolor": "white",
            "ticks": ""
           },
           "baxis": {
            "gridcolor": "white",
            "linecolor": "white",
            "ticks": ""
           },
           "bgcolor": "#E5ECF6",
           "caxis": {
            "gridcolor": "white",
            "linecolor": "white",
            "ticks": ""
           }
          },
          "title": {
           "x": 0.05
          },
          "xaxis": {
           "automargin": true,
           "gridcolor": "white",
           "linecolor": "white",
           "ticks": "",
           "title": {
            "standoff": 15
           },
           "zerolinecolor": "white",
           "zerolinewidth": 2
          },
          "yaxis": {
           "automargin": true,
           "gridcolor": "white",
           "linecolor": "white",
           "ticks": "",
           "title": {
            "standoff": 15
           },
           "zerolinecolor": "white",
           "zerolinewidth": 2
          }
         }
        },
        "title": {
         "text": ""
        },
        "width": 1050,
        "xaxis": {
         "anchor": "y",
         "domain": [
          0,
          1
         ],
         "tickangle": -90,
         "tickfont": {
          "size": 14
         },
         "title": {
          "text": "Regions"
         }
        },
        "yaxis": {
         "anchor": "x",
         "domain": [
          0,
          1
         ],
         "range": [
          0,
          14
         ],
         "title": {
          "text": "Neuron Proportion"
         }
        }
       }
      }
     },
     "metadata": {},
     "output_type": "display_data"
    },
    {
     "name": "stdout",
     "output_type": "stream",
     "text": [
      "3cathodalbase\n"
     ]
    },
    {
     "data": {
      "application/vnd.plotly.v1+json": {
       "config": {
        "plotlyServerURL": "https://plot.ly"
       },
       "data": [
        {
         "hovertemplate": "region=%{text}<br>percentage=%{marker.color}<extra></extra>",
         "legendgroup": "",
         "marker": {
          "color": [
           7,
           3,
           2,
           3,
           10,
           4,
           2,
           2,
           2,
           4,
           4,
           1,
           3,
           2,
           4,
           2,
           0,
           9,
           5,
           4,
           1,
           1,
           2,
           3,
           1,
           2,
           2,
           5,
           1,
           1,
           6,
           1
          ],
          "coloraxis": "coloraxis",
          "size": [
           7,
           3,
           2,
           3,
           10,
           4,
           2,
           2,
           2,
           4,
           4,
           1,
           3,
           2,
           4,
           2,
           0,
           9,
           5,
           4,
           1,
           1,
           2,
           3,
           1,
           2,
           2,
           5,
           1,
           1,
           6,
           1
          ],
          "sizemode": "area",
          "sizeref": 0.004,
          "symbol": "circle"
         },
         "mode": "markers+text",
         "name": "",
         "orientation": "v",
         "showlegend": false,
         "text": [
          "P8",
          "T8",
          "CP6",
          "FC6",
          "F8",
          "F4",
          "C4",
          "P4",
          "AF4",
          "Fp2",
          "Fp1",
          "AF3",
          "Fz",
          "FC2",
          "Cz",
          "CP2",
          "PO3",
          "O1",
          "Oz",
          "O2",
          "PO4",
          "Pz",
          "CP1",
          "FC1",
          "P3",
          "C3",
          "F3",
          "F7",
          "FC5",
          "CP5",
          "T7",
          "P7"
         ],
         "textposition": "top center",
         "type": "scatter",
         "x": [
          "P8",
          "T8",
          "CP6",
          "FC6",
          "F8",
          "F4",
          "C4",
          "P4",
          "AF4",
          "Fp2",
          "Fp1",
          "AF3",
          "Fz",
          "FC2",
          "Cz",
          "CP2",
          "PO3",
          "O1",
          "Oz",
          "O2",
          "PO4",
          "Pz",
          "CP1",
          "FC1",
          "P3",
          "C3",
          "F3",
          "F7",
          "FC5",
          "CP5",
          "T7",
          "P7"
         ],
         "xaxis": "x",
         "y": [
          7,
          3,
          2,
          3,
          10,
          4,
          2,
          2,
          2,
          4,
          4,
          1,
          3,
          2,
          4,
          2,
          0,
          9,
          5,
          4,
          1,
          1,
          2,
          3,
          1,
          2,
          2,
          5,
          1,
          1,
          6,
          1
         ],
         "yaxis": "y"
        }
       ],
       "layout": {
        "coloraxis": {
         "colorbar": {
          "title": {
           "text": "percentage"
          }
         },
         "colorscale": [
          [
           0,
           "#0d0887"
          ],
          [
           0.1111111111111111,
           "#46039f"
          ],
          [
           0.2222222222222222,
           "#7201a8"
          ],
          [
           0.3333333333333333,
           "#9c179e"
          ],
          [
           0.4444444444444444,
           "#bd3786"
          ],
          [
           0.5555555555555556,
           "#d8576b"
          ],
          [
           0.6666666666666666,
           "#ed7953"
          ],
          [
           0.7777777777777778,
           "#fb9f3a"
          ],
          [
           0.8888888888888888,
           "#fdca26"
          ],
          [
           1,
           "#f0f921"
          ]
         ]
        },
        "font": {
         "color": "black",
         "family": "Courier New, monospace",
         "size": 12
        },
        "height": 500,
        "legend": {
         "itemsizing": "constant",
         "tracegroupgap": 0
        },
        "margin": {
         "b": 50,
         "l": 80,
         "r": 50,
         "t": 80
        },
        "template": {
         "data": {
          "bar": [
           {
            "error_x": {
             "color": "#2a3f5f"
            },
            "error_y": {
             "color": "#2a3f5f"
            },
            "marker": {
             "line": {
              "color": "#E5ECF6",
              "width": 0.5
             },
             "pattern": {
              "fillmode": "overlay",
              "size": 10,
              "solidity": 0.2
             }
            },
            "type": "bar"
           }
          ],
          "barpolar": [
           {
            "marker": {
             "line": {
              "color": "#E5ECF6",
              "width": 0.5
             },
             "pattern": {
              "fillmode": "overlay",
              "size": 10,
              "solidity": 0.2
             }
            },
            "type": "barpolar"
           }
          ],
          "carpet": [
           {
            "aaxis": {
             "endlinecolor": "#2a3f5f",
             "gridcolor": "white",
             "linecolor": "white",
             "minorgridcolor": "white",
             "startlinecolor": "#2a3f5f"
            },
            "baxis": {
             "endlinecolor": "#2a3f5f",
             "gridcolor": "white",
             "linecolor": "white",
             "minorgridcolor": "white",
             "startlinecolor": "#2a3f5f"
            },
            "type": "carpet"
           }
          ],
          "choropleth": [
           {
            "colorbar": {
             "outlinewidth": 0,
             "ticks": ""
            },
            "type": "choropleth"
           }
          ],
          "contour": [
           {
            "colorbar": {
             "outlinewidth": 0,
             "ticks": ""
            },
            "colorscale": [
             [
              0,
              "#0d0887"
             ],
             [
              0.1111111111111111,
              "#46039f"
             ],
             [
              0.2222222222222222,
              "#7201a8"
             ],
             [
              0.3333333333333333,
              "#9c179e"
             ],
             [
              0.4444444444444444,
              "#bd3786"
             ],
             [
              0.5555555555555556,
              "#d8576b"
             ],
             [
              0.6666666666666666,
              "#ed7953"
             ],
             [
              0.7777777777777778,
              "#fb9f3a"
             ],
             [
              0.8888888888888888,
              "#fdca26"
             ],
             [
              1,
              "#f0f921"
             ]
            ],
            "type": "contour"
           }
          ],
          "contourcarpet": [
           {
            "colorbar": {
             "outlinewidth": 0,
             "ticks": ""
            },
            "type": "contourcarpet"
           }
          ],
          "heatmap": [
           {
            "colorbar": {
             "outlinewidth": 0,
             "ticks": ""
            },
            "colorscale": [
             [
              0,
              "#0d0887"
             ],
             [
              0.1111111111111111,
              "#46039f"
             ],
             [
              0.2222222222222222,
              "#7201a8"
             ],
             [
              0.3333333333333333,
              "#9c179e"
             ],
             [
              0.4444444444444444,
              "#bd3786"
             ],
             [
              0.5555555555555556,
              "#d8576b"
             ],
             [
              0.6666666666666666,
              "#ed7953"
             ],
             [
              0.7777777777777778,
              "#fb9f3a"
             ],
             [
              0.8888888888888888,
              "#fdca26"
             ],
             [
              1,
              "#f0f921"
             ]
            ],
            "type": "heatmap"
           }
          ],
          "heatmapgl": [
           {
            "colorbar": {
             "outlinewidth": 0,
             "ticks": ""
            },
            "colorscale": [
             [
              0,
              "#0d0887"
             ],
             [
              0.1111111111111111,
              "#46039f"
             ],
             [
              0.2222222222222222,
              "#7201a8"
             ],
             [
              0.3333333333333333,
              "#9c179e"
             ],
             [
              0.4444444444444444,
              "#bd3786"
             ],
             [
              0.5555555555555556,
              "#d8576b"
             ],
             [
              0.6666666666666666,
              "#ed7953"
             ],
             [
              0.7777777777777778,
              "#fb9f3a"
             ],
             [
              0.8888888888888888,
              "#fdca26"
             ],
             [
              1,
              "#f0f921"
             ]
            ],
            "type": "heatmapgl"
           }
          ],
          "histogram": [
           {
            "marker": {
             "pattern": {
              "fillmode": "overlay",
              "size": 10,
              "solidity": 0.2
             }
            },
            "type": "histogram"
           }
          ],
          "histogram2d": [
           {
            "colorbar": {
             "outlinewidth": 0,
             "ticks": ""
            },
            "colorscale": [
             [
              0,
              "#0d0887"
             ],
             [
              0.1111111111111111,
              "#46039f"
             ],
             [
              0.2222222222222222,
              "#7201a8"
             ],
             [
              0.3333333333333333,
              "#9c179e"
             ],
             [
              0.4444444444444444,
              "#bd3786"
             ],
             [
              0.5555555555555556,
              "#d8576b"
             ],
             [
              0.6666666666666666,
              "#ed7953"
             ],
             [
              0.7777777777777778,
              "#fb9f3a"
             ],
             [
              0.8888888888888888,
              "#fdca26"
             ],
             [
              1,
              "#f0f921"
             ]
            ],
            "type": "histogram2d"
           }
          ],
          "histogram2dcontour": [
           {
            "colorbar": {
             "outlinewidth": 0,
             "ticks": ""
            },
            "colorscale": [
             [
              0,
              "#0d0887"
             ],
             [
              0.1111111111111111,
              "#46039f"
             ],
             [
              0.2222222222222222,
              "#7201a8"
             ],
             [
              0.3333333333333333,
              "#9c179e"
             ],
             [
              0.4444444444444444,
              "#bd3786"
             ],
             [
              0.5555555555555556,
              "#d8576b"
             ],
             [
              0.6666666666666666,
              "#ed7953"
             ],
             [
              0.7777777777777778,
              "#fb9f3a"
             ],
             [
              0.8888888888888888,
              "#fdca26"
             ],
             [
              1,
              "#f0f921"
             ]
            ],
            "type": "histogram2dcontour"
           }
          ],
          "mesh3d": [
           {
            "colorbar": {
             "outlinewidth": 0,
             "ticks": ""
            },
            "type": "mesh3d"
           }
          ],
          "parcoords": [
           {
            "line": {
             "colorbar": {
              "outlinewidth": 0,
              "ticks": ""
             }
            },
            "type": "parcoords"
           }
          ],
          "pie": [
           {
            "automargin": true,
            "type": "pie"
           }
          ],
          "scatter": [
           {
            "fillpattern": {
             "fillmode": "overlay",
             "size": 10,
             "solidity": 0.2
            },
            "type": "scatter"
           }
          ],
          "scatter3d": [
           {
            "line": {
             "colorbar": {
              "outlinewidth": 0,
              "ticks": ""
             }
            },
            "marker": {
             "colorbar": {
              "outlinewidth": 0,
              "ticks": ""
             }
            },
            "type": "scatter3d"
           }
          ],
          "scattercarpet": [
           {
            "marker": {
             "colorbar": {
              "outlinewidth": 0,
              "ticks": ""
             }
            },
            "type": "scattercarpet"
           }
          ],
          "scattergeo": [
           {
            "marker": {
             "colorbar": {
              "outlinewidth": 0,
              "ticks": ""
             }
            },
            "type": "scattergeo"
           }
          ],
          "scattergl": [
           {
            "marker": {
             "colorbar": {
              "outlinewidth": 0,
              "ticks": ""
             }
            },
            "type": "scattergl"
           }
          ],
          "scattermapbox": [
           {
            "marker": {
             "colorbar": {
              "outlinewidth": 0,
              "ticks": ""
             }
            },
            "type": "scattermapbox"
           }
          ],
          "scatterpolar": [
           {
            "marker": {
             "colorbar": {
              "outlinewidth": 0,
              "ticks": ""
             }
            },
            "type": "scatterpolar"
           }
          ],
          "scatterpolargl": [
           {
            "marker": {
             "colorbar": {
              "outlinewidth": 0,
              "ticks": ""
             }
            },
            "type": "scatterpolargl"
           }
          ],
          "scatterternary": [
           {
            "marker": {
             "colorbar": {
              "outlinewidth": 0,
              "ticks": ""
             }
            },
            "type": "scatterternary"
           }
          ],
          "surface": [
           {
            "colorbar": {
             "outlinewidth": 0,
             "ticks": ""
            },
            "colorscale": [
             [
              0,
              "#0d0887"
             ],
             [
              0.1111111111111111,
              "#46039f"
             ],
             [
              0.2222222222222222,
              "#7201a8"
             ],
             [
              0.3333333333333333,
              "#9c179e"
             ],
             [
              0.4444444444444444,
              "#bd3786"
             ],
             [
              0.5555555555555556,
              "#d8576b"
             ],
             [
              0.6666666666666666,
              "#ed7953"
             ],
             [
              0.7777777777777778,
              "#fb9f3a"
             ],
             [
              0.8888888888888888,
              "#fdca26"
             ],
             [
              1,
              "#f0f921"
             ]
            ],
            "type": "surface"
           }
          ],
          "table": [
           {
            "cells": {
             "fill": {
              "color": "#EBF0F8"
             },
             "line": {
              "color": "white"
             }
            },
            "header": {
             "fill": {
              "color": "#C8D4E3"
             },
             "line": {
              "color": "white"
             }
            },
            "type": "table"
           }
          ]
         },
         "layout": {
          "annotationdefaults": {
           "arrowcolor": "#2a3f5f",
           "arrowhead": 0,
           "arrowwidth": 1
          },
          "autotypenumbers": "strict",
          "coloraxis": {
           "colorbar": {
            "outlinewidth": 0,
            "ticks": ""
           }
          },
          "colorscale": {
           "diverging": [
            [
             0,
             "#8e0152"
            ],
            [
             0.1,
             "#c51b7d"
            ],
            [
             0.2,
             "#de77ae"
            ],
            [
             0.3,
             "#f1b6da"
            ],
            [
             0.4,
             "#fde0ef"
            ],
            [
             0.5,
             "#f7f7f7"
            ],
            [
             0.6,
             "#e6f5d0"
            ],
            [
             0.7,
             "#b8e186"
            ],
            [
             0.8,
             "#7fbc41"
            ],
            [
             0.9,
             "#4d9221"
            ],
            [
             1,
             "#276419"
            ]
           ],
           "sequential": [
            [
             0,
             "#0d0887"
            ],
            [
             0.1111111111111111,
             "#46039f"
            ],
            [
             0.2222222222222222,
             "#7201a8"
            ],
            [
             0.3333333333333333,
             "#9c179e"
            ],
            [
             0.4444444444444444,
             "#bd3786"
            ],
            [
             0.5555555555555556,
             "#d8576b"
            ],
            [
             0.6666666666666666,
             "#ed7953"
            ],
            [
             0.7777777777777778,
             "#fb9f3a"
            ],
            [
             0.8888888888888888,
             "#fdca26"
            ],
            [
             1,
             "#f0f921"
            ]
           ],
           "sequentialminus": [
            [
             0,
             "#0d0887"
            ],
            [
             0.1111111111111111,
             "#46039f"
            ],
            [
             0.2222222222222222,
             "#7201a8"
            ],
            [
             0.3333333333333333,
             "#9c179e"
            ],
            [
             0.4444444444444444,
             "#bd3786"
            ],
            [
             0.5555555555555556,
             "#d8576b"
            ],
            [
             0.6666666666666666,
             "#ed7953"
            ],
            [
             0.7777777777777778,
             "#fb9f3a"
            ],
            [
             0.8888888888888888,
             "#fdca26"
            ],
            [
             1,
             "#f0f921"
            ]
           ]
          },
          "colorway": [
           "#636efa",
           "#EF553B",
           "#00cc96",
           "#ab63fa",
           "#FFA15A",
           "#19d3f3",
           "#FF6692",
           "#B6E880",
           "#FF97FF",
           "#FECB52"
          ],
          "font": {
           "color": "#2a3f5f"
          },
          "geo": {
           "bgcolor": "white",
           "lakecolor": "white",
           "landcolor": "#E5ECF6",
           "showlakes": true,
           "showland": true,
           "subunitcolor": "white"
          },
          "hoverlabel": {
           "align": "left"
          },
          "hovermode": "closest",
          "mapbox": {
           "style": "light"
          },
          "paper_bgcolor": "white",
          "plot_bgcolor": "#E5ECF6",
          "polar": {
           "angularaxis": {
            "gridcolor": "white",
            "linecolor": "white",
            "ticks": ""
           },
           "bgcolor": "#E5ECF6",
           "radialaxis": {
            "gridcolor": "white",
            "linecolor": "white",
            "ticks": ""
           }
          },
          "scene": {
           "xaxis": {
            "backgroundcolor": "#E5ECF6",
            "gridcolor": "white",
            "gridwidth": 2,
            "linecolor": "white",
            "showbackground": true,
            "ticks": "",
            "zerolinecolor": "white"
           },
           "yaxis": {
            "backgroundcolor": "#E5ECF6",
            "gridcolor": "white",
            "gridwidth": 2,
            "linecolor": "white",
            "showbackground": true,
            "ticks": "",
            "zerolinecolor": "white"
           },
           "zaxis": {
            "backgroundcolor": "#E5ECF6",
            "gridcolor": "white",
            "gridwidth": 2,
            "linecolor": "white",
            "showbackground": true,
            "ticks": "",
            "zerolinecolor": "white"
           }
          },
          "shapedefaults": {
           "line": {
            "color": "#2a3f5f"
           }
          },
          "ternary": {
           "aaxis": {
            "gridcolor": "white",
            "linecolor": "white",
            "ticks": ""
           },
           "baxis": {
            "gridcolor": "white",
            "linecolor": "white",
            "ticks": ""
           },
           "bgcolor": "#E5ECF6",
           "caxis": {
            "gridcolor": "white",
            "linecolor": "white",
            "ticks": ""
           }
          },
          "title": {
           "x": 0.05
          },
          "xaxis": {
           "automargin": true,
           "gridcolor": "white",
           "linecolor": "white",
           "ticks": "",
           "title": {
            "standoff": 15
           },
           "zerolinecolor": "white",
           "zerolinewidth": 2
          },
          "yaxis": {
           "automargin": true,
           "gridcolor": "white",
           "linecolor": "white",
           "ticks": "",
           "title": {
            "standoff": 15
           },
           "zerolinecolor": "white",
           "zerolinewidth": 2
          }
         }
        },
        "title": {
         "text": ""
        },
        "width": 1050,
        "xaxis": {
         "anchor": "y",
         "domain": [
          0,
          1
         ],
         "tickangle": -90,
         "tickfont": {
          "size": 14
         },
         "title": {
          "text": "Regions"
         }
        },
        "yaxis": {
         "anchor": "x",
         "domain": [
          0,
          1
         ],
         "range": [
          0,
          14
         ],
         "title": {
          "text": "Neuron Proportion"
         }
        }
       }
      }
     },
     "metadata": {},
     "output_type": "display_data"
    }
   ],
   "source": [
    "import plotly.express as px\n",
    "import pandas as pd\n",
    "import plotly.io as pio\n",
    "\n",
    "Directory = '/Users/yaale244/Desktop/Alex19022023/CSBCIPredictionAlgorithm/tDCS baseline/2s30-31npwcut/np/base' #change directory as needed\n",
    "\n",
    "pathlist = Path(Directory).rglob('*.csv')\n",
    "for path in pathlist:\n",
    "    path_in_str = str(path)# because path is object not string\n",
    "    filename = pathlib.Path(path_in_str).name\n",
    "    l = len(filename)\n",
    "    filename = filename[0:l-4]\n",
    "    df = pd.read_table(path, header=None, delimiter=',') # reads table including first row\n",
    "    df.columns = ['region', 'percentage']\n",
    "    print(filename)\n",
    "    fig = px.scatter(df, x='region', y='percentage', size='percentage', color='percentage', size_max=50, text='region')\n",
    "    fig.update_traces(textposition='top center')\n",
    "    fig.update_layout(\n",
    "        title='',\n",
    "        xaxis_title=\"Regions\",\n",
    "        yaxis_title=\"Neuron Proportion\",\n",
    "        yaxis=dict(range=[0,15]),\n",
    "        font=dict(\n",
    "            family=\"Courier New, monospace\",\n",
    "            size=12,\n",
    "            color=\"black\"\n",
    "        ),\n",
    "        width=1050, # increase plot width\n",
    "        height=500, # increase plot height\n",
    "        xaxis_tickangle=-90, # rotate x-axis labels for better readability\n",
    "        xaxis_tickfont=dict(size=14), # adjust x-axis label font size\n",
    "        margin=dict(l=80, r=50, t=80, b=50) # adjust plot margins\n",
    "    )\n",
    "\n",
    "# Export the figure as a PNG image\n",
    "    fig.write_html(f\"{filename}.html\", include_plotlyjs='cdn')\n",
    "    # Save the figure in PNG format with 600 DPI\n",
    "    fig.write_image(f\"{filename}.png\", engine='kaleido', scale=6)\n",
    "  \n",
    "    fig.show()\n"
   ]
  },
  {
   "cell_type": "code",
   "execution_count": 85,
   "metadata": {},
   "outputs": [
    {
     "data": {
      "application/vnd.plotly.v1+json": {
       "config": {
        "plotlyServerURL": "https://plot.ly"
       },
       "data": [
        {
         "hovertemplate": "time=1placebodelta<br>region=%{x}<br>percentage=%{marker.color}<br>size=%{marker.size}<br>text=%{text}<extra></extra>",
         "legendgroup": "",
         "marker": {
          "color": [
           -1,
           1,
           -2,
           -1,
           -4,
           3,
           1,
           0,
           -1,
           1,
           -1,
           -2,
           2,
           1,
           -1,
           -1,
           -1,
           -1,
           2,
           1,
           0,
           0,
           0,
           0,
           -1,
           -1,
           -1,
           4,
           0,
           0,
           -3,
           0
          ],
          "coloraxis": "coloraxis",
          "size": [
           1,
           1,
           2,
           1,
           4,
           3,
           1,
           0,
           1,
           1,
           1,
           2,
           2,
           1,
           1,
           1,
           1,
           1,
           2,
           1,
           0,
           0,
           0,
           0,
           1,
           1,
           1,
           4,
           0,
           0,
           3,
           0
          ],
          "sizemode": "area",
          "sizeref": 0.0016,
          "symbol": "circle"
         },
         "mode": "markers+text",
         "name": "",
         "orientation": "v",
         "showlegend": false,
         "text": [
          "P8",
          "T8",
          "CP6",
          "FC6",
          "F8",
          "F4",
          "C4",
          "",
          "AF4",
          "Fp2",
          "Fp1",
          "AF3",
          "Fz",
          "FC2",
          "Cz",
          "CP2",
          "PO3",
          "O1",
          "Oz",
          "O2",
          "",
          "",
          "",
          "",
          "P3",
          "C3",
          "F3",
          "F7",
          "",
          "",
          "T7",
          ""
         ],
         "textposition": "top center",
         "type": "scatter",
         "x": [
          "P8",
          "T8",
          "CP6",
          "FC6",
          "F8",
          "F4",
          "C4",
          "P4",
          "AF4",
          "Fp2",
          "Fp1",
          "AF3",
          "Fz",
          "FC2",
          "Cz",
          "CP2",
          "PO3",
          "O1",
          "Oz",
          "O2",
          "PO4",
          "Pz",
          "CP1",
          "FC1",
          "P3",
          "C3",
          "F3",
          "F7",
          "FC5",
          "CP5",
          "T7",
          "P7"
         ],
         "xaxis": "x",
         "y": [
          -1,
          1,
          -2,
          -1,
          -4,
          3,
          1,
          0,
          -1,
          1,
          -1,
          -2,
          2,
          1,
          -1,
          -1,
          -1,
          -1,
          2,
          1,
          0,
          0,
          0,
          0,
          -1,
          -1,
          -1,
          4,
          0,
          0,
          -3,
          0
         ],
         "yaxis": "y"
        }
       ],
       "frames": [
        {
         "data": [
          {
           "hovertemplate": "time=1placebodelta<br>region=%{x}<br>percentage=%{marker.color}<br>size=%{marker.size}<br>text=%{text}<extra></extra>",
           "legendgroup": "",
           "marker": {
            "color": [
             -1,
             1,
             -2,
             -1,
             -4,
             3,
             1,
             0,
             -1,
             1,
             -1,
             -2,
             2,
             1,
             -1,
             -1,
             -1,
             -1,
             2,
             1,
             0,
             0,
             0,
             0,
             -1,
             -1,
             -1,
             4,
             0,
             0,
             -3,
             0
            ],
            "coloraxis": "coloraxis",
            "size": [
             1,
             1,
             2,
             1,
             4,
             3,
             1,
             0,
             1,
             1,
             1,
             2,
             2,
             1,
             1,
             1,
             1,
             1,
             2,
             1,
             0,
             0,
             0,
             0,
             1,
             1,
             1,
             4,
             0,
             0,
             3,
             0
            ],
            "sizemode": "area",
            "sizeref": 0.0016,
            "symbol": "circle"
           },
           "mode": "markers+text",
           "name": "",
           "orientation": "v",
           "showlegend": false,
           "text": [
            "P8",
            "T8",
            "CP6",
            "FC6",
            "F8",
            "F4",
            "C4",
            "",
            "AF4",
            "Fp2",
            "Fp1",
            "AF3",
            "Fz",
            "FC2",
            "Cz",
            "CP2",
            "PO3",
            "O1",
            "Oz",
            "O2",
            "",
            "",
            "",
            "",
            "P3",
            "C3",
            "F3",
            "F7",
            "",
            "",
            "T7",
            ""
           ],
           "type": "scatter",
           "x": [
            "P8",
            "T8",
            "CP6",
            "FC6",
            "F8",
            "F4",
            "C4",
            "P4",
            "AF4",
            "Fp2",
            "Fp1",
            "AF3",
            "Fz",
            "FC2",
            "Cz",
            "CP2",
            "PO3",
            "O1",
            "Oz",
            "O2",
            "PO4",
            "Pz",
            "CP1",
            "FC1",
            "P3",
            "C3",
            "F3",
            "F7",
            "FC5",
            "CP5",
            "T7",
            "P7"
           ],
           "xaxis": "x",
           "y": [
            -1,
            1,
            -2,
            -1,
            -4,
            3,
            1,
            0,
            -1,
            1,
            -1,
            -2,
            2,
            1,
            -1,
            -1,
            -1,
            -1,
            2,
            1,
            0,
            0,
            0,
            0,
            -1,
            -1,
            -1,
            4,
            0,
            0,
            -3,
            0
           ],
           "yaxis": "y"
          }
         ],
         "name": "1placebodelta"
        },
        {
         "data": [
          {
           "hovertemplate": "time=2anodaldelta<br>region=%{x}<br>percentage=%{marker.color}<br>size=%{marker.size}<br>text=%{text}<extra></extra>",
           "legendgroup": "",
           "marker": {
            "color": [
             1,
             -1,
             1,
             2,
             1,
             1,
             0,
             0,
             0,
             0,
             -2,
             -1,
             0,
             1,
             0,
             -1,
             -1,
             -1,
             1,
             -2,
             0,
             0,
             0,
             0,
             0,
             0,
             0,
             3,
             -1,
             0,
             -2,
             0
            ],
            "coloraxis": "coloraxis",
            "size": [
             1,
             1,
             1,
             2,
             1,
             1,
             0,
             0,
             0,
             0,
             2,
             1,
             0,
             1,
             0,
             1,
             1,
             1,
             1,
             2,
             0,
             0,
             0,
             0,
             0,
             0,
             0,
             3,
             1,
             0,
             2,
             0
            ],
            "sizemode": "area",
            "sizeref": 0.0016,
            "symbol": "circle"
           },
           "mode": "markers+text",
           "name": "",
           "orientation": "v",
           "showlegend": false,
           "text": [
            "P8",
            "T8",
            "CP6",
            "FC6",
            "F8",
            "F4",
            "",
            "",
            "",
            "",
            "Fp1",
            "AF3",
            "",
            "FC2",
            "",
            "CP2",
            "PO3",
            "O1",
            "Oz",
            "O2",
            "",
            "",
            "",
            "",
            "",
            "",
            "",
            "F7",
            "FC5",
            "",
            "T7",
            ""
           ],
           "type": "scatter",
           "x": [
            "P8",
            "T8",
            "CP6",
            "FC6",
            "F8",
            "F4",
            "C4",
            "P4",
            "AF4",
            "Fp2",
            "Fp1",
            "AF3",
            "Fz",
            "FC2",
            "Cz",
            "CP2",
            "PO3",
            "O1",
            "Oz",
            "O2",
            "PO4",
            "Pz",
            "CP1",
            "FC1",
            "P3",
            "C3",
            "F3",
            "F7",
            "FC5",
            "CP5",
            "T7",
            "P7"
           ],
           "xaxis": "x",
           "y": [
            1,
            -1,
            1,
            2,
            1,
            1,
            0,
            0,
            0,
            0,
            -2,
            -1,
            0,
            1,
            0,
            -1,
            -1,
            -1,
            1,
            -2,
            0,
            0,
            0,
            0,
            0,
            0,
            0,
            3,
            -1,
            0,
            -2,
            0
           ],
           "yaxis": "y"
          }
         ],
         "name": "2anodaldelta"
        },
        {
         "data": [
          {
           "hovertemplate": "time=3cathodaldelta<br>region=%{x}<br>percentage=%{marker.color}<br>size=%{marker.size}<br>text=%{text}<extra></extra>",
           "legendgroup": "",
           "marker": {
            "color": [
             1,
             -2,
             0,
             1,
             2,
             1,
             0,
             0,
             0,
             0,
             -1,
             0,
             0,
             0,
             0,
             -1,
             -1,
             -1,
             0,
             -1,
             0,
             0,
             0,
             0,
             0,
             0,
             1,
             0,
             0,
             0,
             1,
             0
            ],
            "coloraxis": "coloraxis",
            "size": [
             1,
             2,
             0,
             1,
             2,
             1,
             0,
             0,
             0,
             0,
             1,
             0,
             0,
             0,
             0,
             1,
             1,
             1,
             0,
             1,
             0,
             0,
             0,
             0,
             0,
             0,
             1,
             0,
             0,
             0,
             1,
             0
            ],
            "sizemode": "area",
            "sizeref": 0.0016,
            "symbol": "circle"
           },
           "mode": "markers+text",
           "name": "",
           "orientation": "v",
           "showlegend": false,
           "text": [
            "P8",
            "T8",
            "",
            "FC6",
            "F8",
            "F4",
            "",
            "",
            "",
            "",
            "Fp1",
            "",
            "",
            "",
            "",
            "CP2",
            "PO3",
            "O1",
            "",
            "O2",
            "",
            "",
            "",
            "",
            "",
            "",
            "F3",
            "",
            "",
            "",
            "T7",
            ""
           ],
           "type": "scatter",
           "x": [
            "P8",
            "T8",
            "CP6",
            "FC6",
            "F8",
            "F4",
            "C4",
            "P4",
            "AF4",
            "Fp2",
            "Fp1",
            "AF3",
            "Fz",
            "FC2",
            "Cz",
            "CP2",
            "PO3",
            "O1",
            "Oz",
            "O2",
            "PO4",
            "Pz",
            "CP1",
            "FC1",
            "P3",
            "C3",
            "F3",
            "F7",
            "FC5",
            "CP5",
            "T7",
            "P7"
           ],
           "xaxis": "x",
           "y": [
            1,
            -2,
            0,
            1,
            2,
            1,
            0,
            0,
            0,
            0,
            -1,
            0,
            0,
            0,
            0,
            -1,
            -1,
            -1,
            0,
            -1,
            0,
            0,
            0,
            0,
            0,
            0,
            1,
            0,
            0,
            0,
            1,
            0
           ],
           "yaxis": "y"
          }
         ],
         "name": "3cathodaldelta"
        }
       ],
       "layout": {
        "coloraxis": {
         "colorbar": {
          "title": {
           "text": "percentage"
          }
         },
         "colorscale": [
          [
           0,
           "#0d0887"
          ],
          [
           0.1111111111111111,
           "#46039f"
          ],
          [
           0.2222222222222222,
           "#7201a8"
          ],
          [
           0.3333333333333333,
           "#9c179e"
          ],
          [
           0.4444444444444444,
           "#bd3786"
          ],
          [
           0.5555555555555556,
           "#d8576b"
          ],
          [
           0.6666666666666666,
           "#ed7953"
          ],
          [
           0.7777777777777778,
           "#fb9f3a"
          ],
          [
           0.8888888888888888,
           "#fdca26"
          ],
          [
           1,
           "#f0f921"
          ]
         ]
        },
        "font": {
         "color": "black",
         "family": "Courier New, monospace",
         "size": 12
        },
        "height": 500,
        "legend": {
         "itemsizing": "constant",
         "tracegroupgap": 0
        },
        "margin": {
         "b": 50,
         "l": 80,
         "r": 50,
         "t": 80
        },
        "sliders": [
         {
          "active": 0,
          "currentvalue": {
           "prefix": "time="
          },
          "len": 0.9,
          "pad": {
           "b": 10,
           "t": 60
          },
          "steps": [
           {
            "args": [
             [
              "1placebodelta"
             ],
             {
              "frame": {
               "duration": 0,
               "redraw": false
              },
              "fromcurrent": true,
              "mode": "immediate",
              "transition": {
               "duration": 0,
               "easing": "linear"
              }
             }
            ],
            "label": "1placebodelta",
            "method": "animate"
           },
           {
            "args": [
             [
              "2anodaldelta"
             ],
             {
              "frame": {
               "duration": 0,
               "redraw": false
              },
              "fromcurrent": true,
              "mode": "immediate",
              "transition": {
               "duration": 0,
               "easing": "linear"
              }
             }
            ],
            "label": "2anodaldelta",
            "method": "animate"
           },
           {
            "args": [
             [
              "3cathodaldelta"
             ],
             {
              "frame": {
               "duration": 0,
               "redraw": false
              },
              "fromcurrent": true,
              "mode": "immediate",
              "transition": {
               "duration": 0,
               "easing": "linear"
              }
             }
            ],
            "label": "3cathodaldelta",
            "method": "animate"
           }
          ],
          "x": 0.1,
          "xanchor": "left",
          "y": 0,
          "yanchor": "top"
         }
        ],
        "template": {
         "data": {
          "bar": [
           {
            "error_x": {
             "color": "#2a3f5f"
            },
            "error_y": {
             "color": "#2a3f5f"
            },
            "marker": {
             "line": {
              "color": "#E5ECF6",
              "width": 0.5
             },
             "pattern": {
              "fillmode": "overlay",
              "size": 10,
              "solidity": 0.2
             }
            },
            "type": "bar"
           }
          ],
          "barpolar": [
           {
            "marker": {
             "line": {
              "color": "#E5ECF6",
              "width": 0.5
             },
             "pattern": {
              "fillmode": "overlay",
              "size": 10,
              "solidity": 0.2
             }
            },
            "type": "barpolar"
           }
          ],
          "carpet": [
           {
            "aaxis": {
             "endlinecolor": "#2a3f5f",
             "gridcolor": "white",
             "linecolor": "white",
             "minorgridcolor": "white",
             "startlinecolor": "#2a3f5f"
            },
            "baxis": {
             "endlinecolor": "#2a3f5f",
             "gridcolor": "white",
             "linecolor": "white",
             "minorgridcolor": "white",
             "startlinecolor": "#2a3f5f"
            },
            "type": "carpet"
           }
          ],
          "choropleth": [
           {
            "colorbar": {
             "outlinewidth": 0,
             "ticks": ""
            },
            "type": "choropleth"
           }
          ],
          "contour": [
           {
            "colorbar": {
             "outlinewidth": 0,
             "ticks": ""
            },
            "colorscale": [
             [
              0,
              "#0d0887"
             ],
             [
              0.1111111111111111,
              "#46039f"
             ],
             [
              0.2222222222222222,
              "#7201a8"
             ],
             [
              0.3333333333333333,
              "#9c179e"
             ],
             [
              0.4444444444444444,
              "#bd3786"
             ],
             [
              0.5555555555555556,
              "#d8576b"
             ],
             [
              0.6666666666666666,
              "#ed7953"
             ],
             [
              0.7777777777777778,
              "#fb9f3a"
             ],
             [
              0.8888888888888888,
              "#fdca26"
             ],
             [
              1,
              "#f0f921"
             ]
            ],
            "type": "contour"
           }
          ],
          "contourcarpet": [
           {
            "colorbar": {
             "outlinewidth": 0,
             "ticks": ""
            },
            "type": "contourcarpet"
           }
          ],
          "heatmap": [
           {
            "colorbar": {
             "outlinewidth": 0,
             "ticks": ""
            },
            "colorscale": [
             [
              0,
              "#0d0887"
             ],
             [
              0.1111111111111111,
              "#46039f"
             ],
             [
              0.2222222222222222,
              "#7201a8"
             ],
             [
              0.3333333333333333,
              "#9c179e"
             ],
             [
              0.4444444444444444,
              "#bd3786"
             ],
             [
              0.5555555555555556,
              "#d8576b"
             ],
             [
              0.6666666666666666,
              "#ed7953"
             ],
             [
              0.7777777777777778,
              "#fb9f3a"
             ],
             [
              0.8888888888888888,
              "#fdca26"
             ],
             [
              1,
              "#f0f921"
             ]
            ],
            "type": "heatmap"
           }
          ],
          "heatmapgl": [
           {
            "colorbar": {
             "outlinewidth": 0,
             "ticks": ""
            },
            "colorscale": [
             [
              0,
              "#0d0887"
             ],
             [
              0.1111111111111111,
              "#46039f"
             ],
             [
              0.2222222222222222,
              "#7201a8"
             ],
             [
              0.3333333333333333,
              "#9c179e"
             ],
             [
              0.4444444444444444,
              "#bd3786"
             ],
             [
              0.5555555555555556,
              "#d8576b"
             ],
             [
              0.6666666666666666,
              "#ed7953"
             ],
             [
              0.7777777777777778,
              "#fb9f3a"
             ],
             [
              0.8888888888888888,
              "#fdca26"
             ],
             [
              1,
              "#f0f921"
             ]
            ],
            "type": "heatmapgl"
           }
          ],
          "histogram": [
           {
            "marker": {
             "pattern": {
              "fillmode": "overlay",
              "size": 10,
              "solidity": 0.2
             }
            },
            "type": "histogram"
           }
          ],
          "histogram2d": [
           {
            "colorbar": {
             "outlinewidth": 0,
             "ticks": ""
            },
            "colorscale": [
             [
              0,
              "#0d0887"
             ],
             [
              0.1111111111111111,
              "#46039f"
             ],
             [
              0.2222222222222222,
              "#7201a8"
             ],
             [
              0.3333333333333333,
              "#9c179e"
             ],
             [
              0.4444444444444444,
              "#bd3786"
             ],
             [
              0.5555555555555556,
              "#d8576b"
             ],
             [
              0.6666666666666666,
              "#ed7953"
             ],
             [
              0.7777777777777778,
              "#fb9f3a"
             ],
             [
              0.8888888888888888,
              "#fdca26"
             ],
             [
              1,
              "#f0f921"
             ]
            ],
            "type": "histogram2d"
           }
          ],
          "histogram2dcontour": [
           {
            "colorbar": {
             "outlinewidth": 0,
             "ticks": ""
            },
            "colorscale": [
             [
              0,
              "#0d0887"
             ],
             [
              0.1111111111111111,
              "#46039f"
             ],
             [
              0.2222222222222222,
              "#7201a8"
             ],
             [
              0.3333333333333333,
              "#9c179e"
             ],
             [
              0.4444444444444444,
              "#bd3786"
             ],
             [
              0.5555555555555556,
              "#d8576b"
             ],
             [
              0.6666666666666666,
              "#ed7953"
             ],
             [
              0.7777777777777778,
              "#fb9f3a"
             ],
             [
              0.8888888888888888,
              "#fdca26"
             ],
             [
              1,
              "#f0f921"
             ]
            ],
            "type": "histogram2dcontour"
           }
          ],
          "mesh3d": [
           {
            "colorbar": {
             "outlinewidth": 0,
             "ticks": ""
            },
            "type": "mesh3d"
           }
          ],
          "parcoords": [
           {
            "line": {
             "colorbar": {
              "outlinewidth": 0,
              "ticks": ""
             }
            },
            "type": "parcoords"
           }
          ],
          "pie": [
           {
            "automargin": true,
            "type": "pie"
           }
          ],
          "scatter": [
           {
            "fillpattern": {
             "fillmode": "overlay",
             "size": 10,
             "solidity": 0.2
            },
            "type": "scatter"
           }
          ],
          "scatter3d": [
           {
            "line": {
             "colorbar": {
              "outlinewidth": 0,
              "ticks": ""
             }
            },
            "marker": {
             "colorbar": {
              "outlinewidth": 0,
              "ticks": ""
             }
            },
            "type": "scatter3d"
           }
          ],
          "scattercarpet": [
           {
            "marker": {
             "colorbar": {
              "outlinewidth": 0,
              "ticks": ""
             }
            },
            "type": "scattercarpet"
           }
          ],
          "scattergeo": [
           {
            "marker": {
             "colorbar": {
              "outlinewidth": 0,
              "ticks": ""
             }
            },
            "type": "scattergeo"
           }
          ],
          "scattergl": [
           {
            "marker": {
             "colorbar": {
              "outlinewidth": 0,
              "ticks": ""
             }
            },
            "type": "scattergl"
           }
          ],
          "scattermapbox": [
           {
            "marker": {
             "colorbar": {
              "outlinewidth": 0,
              "ticks": ""
             }
            },
            "type": "scattermapbox"
           }
          ],
          "scatterpolar": [
           {
            "marker": {
             "colorbar": {
              "outlinewidth": 0,
              "ticks": ""
             }
            },
            "type": "scatterpolar"
           }
          ],
          "scatterpolargl": [
           {
            "marker": {
             "colorbar": {
              "outlinewidth": 0,
              "ticks": ""
             }
            },
            "type": "scatterpolargl"
           }
          ],
          "scatterternary": [
           {
            "marker": {
             "colorbar": {
              "outlinewidth": 0,
              "ticks": ""
             }
            },
            "type": "scatterternary"
           }
          ],
          "surface": [
           {
            "colorbar": {
             "outlinewidth": 0,
             "ticks": ""
            },
            "colorscale": [
             [
              0,
              "#0d0887"
             ],
             [
              0.1111111111111111,
              "#46039f"
             ],
             [
              0.2222222222222222,
              "#7201a8"
             ],
             [
              0.3333333333333333,
              "#9c179e"
             ],
             [
              0.4444444444444444,
              "#bd3786"
             ],
             [
              0.5555555555555556,
              "#d8576b"
             ],
             [
              0.6666666666666666,
              "#ed7953"
             ],
             [
              0.7777777777777778,
              "#fb9f3a"
             ],
             [
              0.8888888888888888,
              "#fdca26"
             ],
             [
              1,
              "#f0f921"
             ]
            ],
            "type": "surface"
           }
          ],
          "table": [
           {
            "cells": {
             "fill": {
              "color": "#EBF0F8"
             },
             "line": {
              "color": "white"
             }
            },
            "header": {
             "fill": {
              "color": "#C8D4E3"
             },
             "line": {
              "color": "white"
             }
            },
            "type": "table"
           }
          ]
         },
         "layout": {
          "annotationdefaults": {
           "arrowcolor": "#2a3f5f",
           "arrowhead": 0,
           "arrowwidth": 1
          },
          "autotypenumbers": "strict",
          "coloraxis": {
           "colorbar": {
            "outlinewidth": 0,
            "ticks": ""
           }
          },
          "colorscale": {
           "diverging": [
            [
             0,
             "#8e0152"
            ],
            [
             0.1,
             "#c51b7d"
            ],
            [
             0.2,
             "#de77ae"
            ],
            [
             0.3,
             "#f1b6da"
            ],
            [
             0.4,
             "#fde0ef"
            ],
            [
             0.5,
             "#f7f7f7"
            ],
            [
             0.6,
             "#e6f5d0"
            ],
            [
             0.7,
             "#b8e186"
            ],
            [
             0.8,
             "#7fbc41"
            ],
            [
             0.9,
             "#4d9221"
            ],
            [
             1,
             "#276419"
            ]
           ],
           "sequential": [
            [
             0,
             "#0d0887"
            ],
            [
             0.1111111111111111,
             "#46039f"
            ],
            [
             0.2222222222222222,
             "#7201a8"
            ],
            [
             0.3333333333333333,
             "#9c179e"
            ],
            [
             0.4444444444444444,
             "#bd3786"
            ],
            [
             0.5555555555555556,
             "#d8576b"
            ],
            [
             0.6666666666666666,
             "#ed7953"
            ],
            [
             0.7777777777777778,
             "#fb9f3a"
            ],
            [
             0.8888888888888888,
             "#fdca26"
            ],
            [
             1,
             "#f0f921"
            ]
           ],
           "sequentialminus": [
            [
             0,
             "#0d0887"
            ],
            [
             0.1111111111111111,
             "#46039f"
            ],
            [
             0.2222222222222222,
             "#7201a8"
            ],
            [
             0.3333333333333333,
             "#9c179e"
            ],
            [
             0.4444444444444444,
             "#bd3786"
            ],
            [
             0.5555555555555556,
             "#d8576b"
            ],
            [
             0.6666666666666666,
             "#ed7953"
            ],
            [
             0.7777777777777778,
             "#fb9f3a"
            ],
            [
             0.8888888888888888,
             "#fdca26"
            ],
            [
             1,
             "#f0f921"
            ]
           ]
          },
          "colorway": [
           "#636efa",
           "#EF553B",
           "#00cc96",
           "#ab63fa",
           "#FFA15A",
           "#19d3f3",
           "#FF6692",
           "#B6E880",
           "#FF97FF",
           "#FECB52"
          ],
          "font": {
           "color": "#2a3f5f"
          },
          "geo": {
           "bgcolor": "white",
           "lakecolor": "white",
           "landcolor": "#E5ECF6",
           "showlakes": true,
           "showland": true,
           "subunitcolor": "white"
          },
          "hoverlabel": {
           "align": "left"
          },
          "hovermode": "closest",
          "mapbox": {
           "style": "light"
          },
          "paper_bgcolor": "white",
          "plot_bgcolor": "#E5ECF6",
          "polar": {
           "angularaxis": {
            "gridcolor": "white",
            "linecolor": "white",
            "ticks": ""
           },
           "bgcolor": "#E5ECF6",
           "radialaxis": {
            "gridcolor": "white",
            "linecolor": "white",
            "ticks": ""
           }
          },
          "scene": {
           "xaxis": {
            "backgroundcolor": "#E5ECF6",
            "gridcolor": "white",
            "gridwidth": 2,
            "linecolor": "white",
            "showbackground": true,
            "ticks": "",
            "zerolinecolor": "white"
           },
           "yaxis": {
            "backgroundcolor": "#E5ECF6",
            "gridcolor": "white",
            "gridwidth": 2,
            "linecolor": "white",
            "showbackground": true,
            "ticks": "",
            "zerolinecolor": "white"
           },
           "zaxis": {
            "backgroundcolor": "#E5ECF6",
            "gridcolor": "white",
            "gridwidth": 2,
            "linecolor": "white",
            "showbackground": true,
            "ticks": "",
            "zerolinecolor": "white"
           }
          },
          "shapedefaults": {
           "line": {
            "color": "#2a3f5f"
           }
          },
          "ternary": {
           "aaxis": {
            "gridcolor": "white",
            "linecolor": "white",
            "ticks": ""
           },
           "baxis": {
            "gridcolor": "white",
            "linecolor": "white",
            "ticks": ""
           },
           "bgcolor": "#E5ECF6",
           "caxis": {
            "gridcolor": "white",
            "linecolor": "white",
            "ticks": ""
           }
          },
          "title": {
           "x": 0.05
          },
          "xaxis": {
           "automargin": true,
           "gridcolor": "white",
           "linecolor": "white",
           "ticks": "",
           "title": {
            "standoff": 15
           },
           "zerolinecolor": "white",
           "zerolinewidth": 2
          },
          "yaxis": {
           "automargin": true,
           "gridcolor": "white",
           "linecolor": "white",
           "ticks": "",
           "title": {
            "standoff": 15
           },
           "zerolinecolor": "white",
           "zerolinewidth": 2
          }
         }
        },
        "title": {
         "text": "Time = 3cathodaldelta"
        },
        "updatemenus": [
         {
          "buttons": [
           {
            "args": [
             null,
             {
              "frame": {
               "duration": 1000
              },
              "fromcurrent": true
             }
            ],
            "label": "Play",
            "method": "animate"
           },
           {
            "args": [
             [
              null
             ],
             {
              "frame": {
               "duration": 0
              },
              "mode": "immediate",
              "transition": {
               "duration": 0
              }
             }
            ],
            "label": "Pause",
            "method": "animate"
           }
          ],
          "direction": "left",
          "pad": {
           "r": 10,
           "t": 70
          },
          "showactive": false,
          "type": "buttons",
          "x": 0.1,
          "xanchor": "right",
          "y": 0,
          "yanchor": "top"
         }
        ],
        "width": 1050,
        "xaxis": {
         "anchor": "y",
         "categoryarray": [
          "P8",
          "T8",
          "CP6",
          "FC6",
          "F8",
          "F4",
          "C4",
          "P4",
          "AF4",
          "Fp2",
          "Fp1",
          "AF3",
          "Fz",
          "FC2",
          "Cz",
          "CP2",
          "PO3",
          "O1",
          "Oz",
          "O2",
          "PO4",
          "Pz",
          "CP1",
          "FC1",
          "P3",
          "C3",
          "F3",
          "F7",
          "FC5",
          "CP5",
          "T7",
          "P7"
         ],
         "categoryorder": "array",
         "domain": [
          0,
          1
         ],
         "tickangle": -90,
         "tickfont": {
          "size": 14
         },
         "title": {
          "text": "Regions"
         }
        },
        "yaxis": {
         "anchor": "x",
         "domain": [
          0,
          1
         ],
         "range": [
          -7,
          7
         ],
         "title": {
          "text": "Neuron Proportion"
         }
        }
       }
      }
     },
     "metadata": {},
     "output_type": "display_data"
    }
   ],
   "source": [
    "import plotly.express as px\n",
    "import pandas as pd\n",
    "import plotly.io as pio\n",
    "from pathlib import Path\n",
    "\n",
    "Directory = '/Users/yaale244/Desktop/Alex19022023/CSBCIPredictionAlgorithm/tDCS baseline/2s30-31npwcut/np/subtractedbasestim' #change directory as needed\n",
    "\n",
    "pathlist = Path(Directory).rglob('*.csv')\n",
    "dfs = [] # initialize list to store data frames\n",
    "for path in sorted(pathlist):\n",
    "    path_in_str = str(path)# because path is object not string\n",
    "    filename = pathlib.Path(path_in_str).name\n",
    "    l = len(filename)\n",
    "    filename = filename[0:l-4]\n",
    "    df = pd.read_table(path, header=None, delimiter=',') # reads table including first row\n",
    "    df.columns = ['region', 'percentage']\n",
    "    df['time'] = filename # add time column to data frame\n",
    "    dfs.append(df) # add data frame to list\n",
    "df_concat = pd.concat(dfs) # concatenate data frames into one\n",
    "\n",
    "fig = px.scatter(df_concat, x='region', y='percentage', color='percentage', size=df_concat['percentage'].abs(), size_max=50, text=np.where(df_concat['percentage'] != 0, df_concat['region'], ''), color_continuous_scale='plasma', animation_frame='time')\n",
    "fig.update_traces(text=df_concat['percentage'].apply(lambda x: f'{x:.0f}' if abs(x) >= 1 else ''), selector=dict(mode='markers'))\n",
    "fig.update_traces(\n",
    "    textposition='top center')\n",
    "fig.update_layout(\n",
    "    yaxis=dict(range=[-7,7]),\n",
    "    title='',\n",
    "    xaxis_title=\"Regions\",\n",
    "    yaxis_title=\"Neuron Proportion\",\n",
    "    xaxis_categoryorder='array',\n",
    "    xaxis_categoryarray=list(df_concat['region'].unique()), # set the order of x-axis labels\n",
    "    xaxis={'categoryorder': 'array',\n",
    "           'categoryarray': list(df['region'])}, # set the order of x-axis labels\n",
    "    font=dict(\n",
    "        family=\"Courier New, monospace\",\n",
    "        size=12,\n",
    "        color=\"black\"\n",
    "    ),\n",
    "    width=1050, # increase plot width\n",
    "    height=500, # increase plot height\n",
    "    xaxis_tickangle=-90, # rotate x-axis labels for better readability\n",
    "    xaxis_tickfont=dict(size=14), # adjust x-axis label font size\n",
    "\n",
    "    margin=dict(l=80, r=50, t=80, b=50), # adjust plot margins\n",
    "    updatemenus=[dict(\n",
    "        type='buttons',\n",
    "        showactive=False,\n",
    "        buttons=[dict(\n",
    "            label='Play',\n",
    "            method='animate',\n",
    "            args=[None, {'frame': {'duration': 1000}, 'fromcurrent': True}]\n",
    "        ), dict(\n",
    "            label='Pause',\n",
    "            method='animate',\n",
    "            args=[[None], {'frame': {'duration': 0}, 'mode': 'immediate', 'transition': {'duration': 0}}]\n",
    "        )]\n",
    "    )]\n",
    ")\n",
    "\n",
    "# Export the figure as a HTML file\n",
    "fig.write_html(\"animationdelta.html\", include_plotlyjs='cdn')\n",
    "# Save each animation frame as a PNG image\n",
    "for i in range(len(df_concat['time'].unique())):\n",
    "    fig.update_layout(title_text=f\"Time = {df_concat['time'].unique()[i]}\") # set title for current frame\n",
    "    filename = df_concat['time'].unique()[i] + \".png\"\n",
    "    fig.write_image(filename, engine='kaleido', scale=6)\n",
    "# Show the figure\n",
    "fig.show()\n"
   ]
  },
  {
   "cell_type": "code",
   "execution_count": 93,
   "metadata": {},
   "outputs": [
    {
     "data": {
      "application/vnd.plotly.v1+json": {
       "config": {
        "plotlyServerURL": "https://plot.ly"
       },
       "data": [
        {
         "hovertemplate": "time=anodalvsplacebo<br>region=%{x}<br>percentage=%{marker.color}<br>size=%{marker.size}<br>text=%{text}<extra></extra>",
         "legendgroup": "",
         "marker": {
          "color": [
           2,
           -2,
           3,
           3,
           5,
           -2,
           -1,
           0,
           1,
           -1,
           -1,
           1,
           -2,
           0,
           1,
           0,
           0,
           0,
           -1,
           -3,
           0,
           0,
           0,
           0,
           1,
           1,
           1,
           -1,
           -1,
           0,
           1,
           0
          ],
          "coloraxis": "coloraxis",
          "size": [
           2,
           2,
           3,
           3,
           5,
           2,
           1,
           0,
           1,
           1,
           1,
           1,
           2,
           0,
           1,
           0,
           0,
           0,
           1,
           3,
           0,
           0,
           0,
           0,
           1,
           1,
           1,
           1,
           1,
           0,
           1,
           0
          ],
          "sizemode": "area",
          "sizeref": 0.0024,
          "symbol": "circle"
         },
         "mode": "markers+text",
         "name": "",
         "orientation": "v",
         "showlegend": false,
         "text": [
          "P8",
          "T8",
          "CP6",
          "FC6",
          "F8",
          "F4",
          "C4",
          "",
          "AF4",
          "Fp2",
          "Fp1",
          "AF3",
          "Fz",
          "",
          "Cz",
          "",
          "",
          "",
          "Oz",
          "O2",
          "",
          "",
          "",
          "",
          "P3",
          "C3",
          "F3",
          "F7",
          "FC5",
          "",
          "T7",
          ""
         ],
         "textposition": "top center",
         "type": "scatter",
         "x": [
          "P8",
          "T8",
          "CP6",
          "FC6",
          "F8",
          "F4",
          "C4",
          "P4",
          "AF4",
          "Fp2",
          "Fp1",
          "AF3",
          "Fz",
          "FC2",
          "Cz",
          "CP2",
          "PO3",
          "O1",
          "Oz",
          "O2",
          "PO4",
          "Pz",
          "CP1",
          "FC1",
          "P3",
          "C3",
          "F3",
          "F7",
          "FC5",
          "CP5",
          "T7",
          "P7"
         ],
         "xaxis": "x",
         "y": [
          2,
          -2,
          3,
          3,
          5,
          -2,
          -1,
          0,
          1,
          -1,
          -1,
          1,
          -2,
          0,
          1,
          0,
          0,
          0,
          -1,
          -3,
          0,
          0,
          0,
          0,
          1,
          1,
          1,
          -1,
          -1,
          0,
          1,
          0
         ],
         "yaxis": "y"
        }
       ],
       "frames": [
        {
         "data": [
          {
           "hovertemplate": "time=anodalvsplacebo<br>region=%{x}<br>percentage=%{marker.color}<br>size=%{marker.size}<br>text=%{text}<extra></extra>",
           "legendgroup": "",
           "marker": {
            "color": [
             2,
             -2,
             3,
             3,
             5,
             -2,
             -1,
             0,
             1,
             -1,
             -1,
             1,
             -2,
             0,
             1,
             0,
             0,
             0,
             -1,
             -3,
             0,
             0,
             0,
             0,
             1,
             1,
             1,
             -1,
             -1,
             0,
             1,
             0
            ],
            "coloraxis": "coloraxis",
            "size": [
             2,
             2,
             3,
             3,
             5,
             2,
             1,
             0,
             1,
             1,
             1,
             1,
             2,
             0,
             1,
             0,
             0,
             0,
             1,
             3,
             0,
             0,
             0,
             0,
             1,
             1,
             1,
             1,
             1,
             0,
             1,
             0
            ],
            "sizemode": "area",
            "sizeref": 0.0024,
            "symbol": "circle"
           },
           "mode": "markers+text",
           "name": "",
           "orientation": "v",
           "showlegend": false,
           "text": [
            "P8",
            "T8",
            "CP6",
            "FC6",
            "F8",
            "F4",
            "C4",
            "",
            "AF4",
            "Fp2",
            "Fp1",
            "AF3",
            "Fz",
            "",
            "Cz",
            "",
            "",
            "",
            "Oz",
            "O2",
            "",
            "",
            "",
            "",
            "P3",
            "C3",
            "F3",
            "F7",
            "FC5",
            "",
            "T7",
            ""
           ],
           "type": "scatter",
           "x": [
            "P8",
            "T8",
            "CP6",
            "FC6",
            "F8",
            "F4",
            "C4",
            "P4",
            "AF4",
            "Fp2",
            "Fp1",
            "AF3",
            "Fz",
            "FC2",
            "Cz",
            "CP2",
            "PO3",
            "O1",
            "Oz",
            "O2",
            "PO4",
            "Pz",
            "CP1",
            "FC1",
            "P3",
            "C3",
            "F3",
            "F7",
            "FC5",
            "CP5",
            "T7",
            "P7"
           ],
           "xaxis": "x",
           "y": [
            2,
            -2,
            3,
            3,
            5,
            -2,
            -1,
            0,
            1,
            -1,
            -1,
            1,
            -2,
            0,
            1,
            0,
            0,
            0,
            -1,
            -3,
            0,
            0,
            0,
            0,
            1,
            1,
            1,
            -1,
            -1,
            0,
            1,
            0
           ],
           "yaxis": "y"
          }
         ],
         "name": "anodalvsplacebo"
        },
        {
         "data": [
          {
           "hovertemplate": "time=cathodalvsanodalafterplacebodifferences<br>region=%{x}<br>percentage=%{marker.color}<br>size=%{marker.size}<br>text=%{text}<extra></extra>",
           "legendgroup": "",
           "marker": {
            "color": [
             0,
             -1,
             -1,
             -1,
             1,
             0,
             0,
             0,
             0,
             0,
             1,
             1,
             0,
             -1,
             0,
             0,
             0,
             0,
             -1,
             1,
             0,
             0,
             0,
             0,
             0,
             0,
             1,
             -3,
             1,
             0,
             3,
             0
            ],
            "coloraxis": "coloraxis",
            "size": [
             0,
             1,
             1,
             1,
             1,
             0,
             0,
             0,
             0,
             0,
             1,
             1,
             0,
             1,
             0,
             0,
             0,
             0,
             1,
             1,
             0,
             0,
             0,
             0,
             0,
             0,
             1,
             3,
             1,
             0,
             3,
             0
            ],
            "sizemode": "area",
            "sizeref": 0.0024,
            "symbol": "circle"
           },
           "mode": "markers+text",
           "name": "",
           "orientation": "v",
           "showlegend": false,
           "text": [
            "",
            "T8",
            "CP6",
            "FC6",
            "F8",
            "",
            "",
            "",
            "",
            "",
            "Fp1",
            "AF3",
            "",
            "FC2",
            "",
            "",
            "",
            "",
            "Oz",
            "O2",
            "",
            "",
            "",
            "",
            "",
            "",
            "F3",
            "F7",
            "FC5",
            "",
            "T7",
            ""
           ],
           "type": "scatter",
           "x": [
            "P8",
            "T8",
            "CP6",
            "FC6",
            "F8",
            "F4",
            "C4",
            "P4",
            "AF4",
            "Fp2",
            "Fp1",
            "AF3",
            "Fz",
            "FC2",
            "Cz",
            "CP2",
            "PO3",
            "O1",
            "Oz",
            "O2",
            "PO4",
            "Pz",
            "CP1",
            "FC1",
            "P3",
            "C3",
            "F3",
            "F7",
            "FC5",
            "CP5",
            "T7",
            "P7"
           ],
           "xaxis": "x",
           "y": [
            0,
            -1,
            -1,
            -1,
            1,
            0,
            0,
            0,
            0,
            0,
            1,
            1,
            0,
            -1,
            0,
            0,
            0,
            0,
            -1,
            1,
            0,
            0,
            0,
            0,
            0,
            0,
            1,
            -3,
            1,
            0,
            3,
            0
           ],
           "yaxis": "y"
          }
         ],
         "name": "cathodalvsanodalafterplacebodifferences"
        },
        {
         "data": [
          {
           "hovertemplate": "time=cathodalvsplacebo<br>region=%{x}<br>percentage=%{marker.color}<br>size=%{marker.size}<br>text=%{text}<extra></extra>",
           "legendgroup": "",
           "marker": {
            "color": [
             2,
             -3,
             2,
             2,
             6,
             -2,
             -1,
             0,
             1,
             -1,
             0,
             2,
             -2,
             -1,
             1,
             0,
             0,
             0,
             -2,
             -2,
             0,
             0,
             0,
             0,
             1,
             1,
             2,
             -4,
             0,
             0,
             4,
             0
            ],
            "coloraxis": "coloraxis",
            "size": [
             2,
             3,
             2,
             2,
             6,
             2,
             1,
             0,
             1,
             1,
             0,
             2,
             2,
             1,
             1,
             0,
             0,
             0,
             2,
             2,
             0,
             0,
             0,
             0,
             1,
             1,
             2,
             4,
             0,
             0,
             4,
             0
            ],
            "sizemode": "area",
            "sizeref": 0.0024,
            "symbol": "circle"
           },
           "mode": "markers+text",
           "name": "",
           "orientation": "v",
           "showlegend": false,
           "text": [
            "P8",
            "T8",
            "CP6",
            "FC6",
            "F8",
            "F4",
            "C4",
            "",
            "AF4",
            "Fp2",
            "",
            "AF3",
            "Fz",
            "FC2",
            "Cz",
            "",
            "",
            "",
            "Oz",
            "O2",
            "",
            "",
            "",
            "",
            "P3",
            "C3",
            "F3",
            "F7",
            "",
            "",
            "T7",
            ""
           ],
           "type": "scatter",
           "x": [
            "P8",
            "T8",
            "CP6",
            "FC6",
            "F8",
            "F4",
            "C4",
            "P4",
            "AF4",
            "Fp2",
            "Fp1",
            "AF3",
            "Fz",
            "FC2",
            "Cz",
            "CP2",
            "PO3",
            "O1",
            "Oz",
            "O2",
            "PO4",
            "Pz",
            "CP1",
            "FC1",
            "P3",
            "C3",
            "F3",
            "F7",
            "FC5",
            "CP5",
            "T7",
            "P7"
           ],
           "xaxis": "x",
           "y": [
            2,
            -3,
            2,
            2,
            6,
            -2,
            -1,
            0,
            1,
            -1,
            0,
            2,
            -2,
            -1,
            1,
            0,
            0,
            0,
            -2,
            -2,
            0,
            0,
            0,
            0,
            1,
            1,
            2,
            -4,
            0,
            0,
            4,
            0
           ],
           "yaxis": "y"
          }
         ],
         "name": "cathodalvsplacebo"
        }
       ],
       "layout": {
        "coloraxis": {
         "colorbar": {
          "title": {
           "text": "percentage"
          }
         },
         "colorscale": [
          [
           0,
           "#0d0887"
          ],
          [
           0.1111111111111111,
           "#46039f"
          ],
          [
           0.2222222222222222,
           "#7201a8"
          ],
          [
           0.3333333333333333,
           "#9c179e"
          ],
          [
           0.4444444444444444,
           "#bd3786"
          ],
          [
           0.5555555555555556,
           "#d8576b"
          ],
          [
           0.6666666666666666,
           "#ed7953"
          ],
          [
           0.7777777777777778,
           "#fb9f3a"
          ],
          [
           0.8888888888888888,
           "#fdca26"
          ],
          [
           1,
           "#f0f921"
          ]
         ]
        },
        "font": {
         "color": "black",
         "family": "Courier New, monospace",
         "size": 12
        },
        "height": 500,
        "legend": {
         "itemsizing": "constant",
         "tracegroupgap": 0
        },
        "margin": {
         "b": 50,
         "l": 80,
         "r": 50,
         "t": 80
        },
        "sliders": [
         {
          "active": 0,
          "currentvalue": {
           "prefix": "time="
          },
          "len": 0.9,
          "pad": {
           "b": 10,
           "t": 60
          },
          "steps": [
           {
            "args": [
             [
              "anodalvsplacebo"
             ],
             {
              "frame": {
               "duration": 0,
               "redraw": false
              },
              "fromcurrent": true,
              "mode": "immediate",
              "transition": {
               "duration": 0,
               "easing": "linear"
              }
             }
            ],
            "label": "anodalvsplacebo",
            "method": "animate"
           },
           {
            "args": [
             [
              "cathodalvsanodalafterplacebodifferences"
             ],
             {
              "frame": {
               "duration": 0,
               "redraw": false
              },
              "fromcurrent": true,
              "mode": "immediate",
              "transition": {
               "duration": 0,
               "easing": "linear"
              }
             }
            ],
            "label": "cathodalvsanodalafterplacebodifferences",
            "method": "animate"
           },
           {
            "args": [
             [
              "cathodalvsplacebo"
             ],
             {
              "frame": {
               "duration": 0,
               "redraw": false
              },
              "fromcurrent": true,
              "mode": "immediate",
              "transition": {
               "duration": 0,
               "easing": "linear"
              }
             }
            ],
            "label": "cathodalvsplacebo",
            "method": "animate"
           }
          ],
          "x": 0.1,
          "xanchor": "left",
          "y": 0,
          "yanchor": "top"
         }
        ],
        "template": {
         "data": {
          "bar": [
           {
            "error_x": {
             "color": "#2a3f5f"
            },
            "error_y": {
             "color": "#2a3f5f"
            },
            "marker": {
             "line": {
              "color": "#E5ECF6",
              "width": 0.5
             },
             "pattern": {
              "fillmode": "overlay",
              "size": 10,
              "solidity": 0.2
             }
            },
            "type": "bar"
           }
          ],
          "barpolar": [
           {
            "marker": {
             "line": {
              "color": "#E5ECF6",
              "width": 0.5
             },
             "pattern": {
              "fillmode": "overlay",
              "size": 10,
              "solidity": 0.2
             }
            },
            "type": "barpolar"
           }
          ],
          "carpet": [
           {
            "aaxis": {
             "endlinecolor": "#2a3f5f",
             "gridcolor": "white",
             "linecolor": "white",
             "minorgridcolor": "white",
             "startlinecolor": "#2a3f5f"
            },
            "baxis": {
             "endlinecolor": "#2a3f5f",
             "gridcolor": "white",
             "linecolor": "white",
             "minorgridcolor": "white",
             "startlinecolor": "#2a3f5f"
            },
            "type": "carpet"
           }
          ],
          "choropleth": [
           {
            "colorbar": {
             "outlinewidth": 0,
             "ticks": ""
            },
            "type": "choropleth"
           }
          ],
          "contour": [
           {
            "colorbar": {
             "outlinewidth": 0,
             "ticks": ""
            },
            "colorscale": [
             [
              0,
              "#0d0887"
             ],
             [
              0.1111111111111111,
              "#46039f"
             ],
             [
              0.2222222222222222,
              "#7201a8"
             ],
             [
              0.3333333333333333,
              "#9c179e"
             ],
             [
              0.4444444444444444,
              "#bd3786"
             ],
             [
              0.5555555555555556,
              "#d8576b"
             ],
             [
              0.6666666666666666,
              "#ed7953"
             ],
             [
              0.7777777777777778,
              "#fb9f3a"
             ],
             [
              0.8888888888888888,
              "#fdca26"
             ],
             [
              1,
              "#f0f921"
             ]
            ],
            "type": "contour"
           }
          ],
          "contourcarpet": [
           {
            "colorbar": {
             "outlinewidth": 0,
             "ticks": ""
            },
            "type": "contourcarpet"
           }
          ],
          "heatmap": [
           {
            "colorbar": {
             "outlinewidth": 0,
             "ticks": ""
            },
            "colorscale": [
             [
              0,
              "#0d0887"
             ],
             [
              0.1111111111111111,
              "#46039f"
             ],
             [
              0.2222222222222222,
              "#7201a8"
             ],
             [
              0.3333333333333333,
              "#9c179e"
             ],
             [
              0.4444444444444444,
              "#bd3786"
             ],
             [
              0.5555555555555556,
              "#d8576b"
             ],
             [
              0.6666666666666666,
              "#ed7953"
             ],
             [
              0.7777777777777778,
              "#fb9f3a"
             ],
             [
              0.8888888888888888,
              "#fdca26"
             ],
             [
              1,
              "#f0f921"
             ]
            ],
            "type": "heatmap"
           }
          ],
          "heatmapgl": [
           {
            "colorbar": {
             "outlinewidth": 0,
             "ticks": ""
            },
            "colorscale": [
             [
              0,
              "#0d0887"
             ],
             [
              0.1111111111111111,
              "#46039f"
             ],
             [
              0.2222222222222222,
              "#7201a8"
             ],
             [
              0.3333333333333333,
              "#9c179e"
             ],
             [
              0.4444444444444444,
              "#bd3786"
             ],
             [
              0.5555555555555556,
              "#d8576b"
             ],
             [
              0.6666666666666666,
              "#ed7953"
             ],
             [
              0.7777777777777778,
              "#fb9f3a"
             ],
             [
              0.8888888888888888,
              "#fdca26"
             ],
             [
              1,
              "#f0f921"
             ]
            ],
            "type": "heatmapgl"
           }
          ],
          "histogram": [
           {
            "marker": {
             "pattern": {
              "fillmode": "overlay",
              "size": 10,
              "solidity": 0.2
             }
            },
            "type": "histogram"
           }
          ],
          "histogram2d": [
           {
            "colorbar": {
             "outlinewidth": 0,
             "ticks": ""
            },
            "colorscale": [
             [
              0,
              "#0d0887"
             ],
             [
              0.1111111111111111,
              "#46039f"
             ],
             [
              0.2222222222222222,
              "#7201a8"
             ],
             [
              0.3333333333333333,
              "#9c179e"
             ],
             [
              0.4444444444444444,
              "#bd3786"
             ],
             [
              0.5555555555555556,
              "#d8576b"
             ],
             [
              0.6666666666666666,
              "#ed7953"
             ],
             [
              0.7777777777777778,
              "#fb9f3a"
             ],
             [
              0.8888888888888888,
              "#fdca26"
             ],
             [
              1,
              "#f0f921"
             ]
            ],
            "type": "histogram2d"
           }
          ],
          "histogram2dcontour": [
           {
            "colorbar": {
             "outlinewidth": 0,
             "ticks": ""
            },
            "colorscale": [
             [
              0,
              "#0d0887"
             ],
             [
              0.1111111111111111,
              "#46039f"
             ],
             [
              0.2222222222222222,
              "#7201a8"
             ],
             [
              0.3333333333333333,
              "#9c179e"
             ],
             [
              0.4444444444444444,
              "#bd3786"
             ],
             [
              0.5555555555555556,
              "#d8576b"
             ],
             [
              0.6666666666666666,
              "#ed7953"
             ],
             [
              0.7777777777777778,
              "#fb9f3a"
             ],
             [
              0.8888888888888888,
              "#fdca26"
             ],
             [
              1,
              "#f0f921"
             ]
            ],
            "type": "histogram2dcontour"
           }
          ],
          "mesh3d": [
           {
            "colorbar": {
             "outlinewidth": 0,
             "ticks": ""
            },
            "type": "mesh3d"
           }
          ],
          "parcoords": [
           {
            "line": {
             "colorbar": {
              "outlinewidth": 0,
              "ticks": ""
             }
            },
            "type": "parcoords"
           }
          ],
          "pie": [
           {
            "automargin": true,
            "type": "pie"
           }
          ],
          "scatter": [
           {
            "fillpattern": {
             "fillmode": "overlay",
             "size": 10,
             "solidity": 0.2
            },
            "type": "scatter"
           }
          ],
          "scatter3d": [
           {
            "line": {
             "colorbar": {
              "outlinewidth": 0,
              "ticks": ""
             }
            },
            "marker": {
             "colorbar": {
              "outlinewidth": 0,
              "ticks": ""
             }
            },
            "type": "scatter3d"
           }
          ],
          "scattercarpet": [
           {
            "marker": {
             "colorbar": {
              "outlinewidth": 0,
              "ticks": ""
             }
            },
            "type": "scattercarpet"
           }
          ],
          "scattergeo": [
           {
            "marker": {
             "colorbar": {
              "outlinewidth": 0,
              "ticks": ""
             }
            },
            "type": "scattergeo"
           }
          ],
          "scattergl": [
           {
            "marker": {
             "colorbar": {
              "outlinewidth": 0,
              "ticks": ""
             }
            },
            "type": "scattergl"
           }
          ],
          "scattermapbox": [
           {
            "marker": {
             "colorbar": {
              "outlinewidth": 0,
              "ticks": ""
             }
            },
            "type": "scattermapbox"
           }
          ],
          "scatterpolar": [
           {
            "marker": {
             "colorbar": {
              "outlinewidth": 0,
              "ticks": ""
             }
            },
            "type": "scatterpolar"
           }
          ],
          "scatterpolargl": [
           {
            "marker": {
             "colorbar": {
              "outlinewidth": 0,
              "ticks": ""
             }
            },
            "type": "scatterpolargl"
           }
          ],
          "scatterternary": [
           {
            "marker": {
             "colorbar": {
              "outlinewidth": 0,
              "ticks": ""
             }
            },
            "type": "scatterternary"
           }
          ],
          "surface": [
           {
            "colorbar": {
             "outlinewidth": 0,
             "ticks": ""
            },
            "colorscale": [
             [
              0,
              "#0d0887"
             ],
             [
              0.1111111111111111,
              "#46039f"
             ],
             [
              0.2222222222222222,
              "#7201a8"
             ],
             [
              0.3333333333333333,
              "#9c179e"
             ],
             [
              0.4444444444444444,
              "#bd3786"
             ],
             [
              0.5555555555555556,
              "#d8576b"
             ],
             [
              0.6666666666666666,
              "#ed7953"
             ],
             [
              0.7777777777777778,
              "#fb9f3a"
             ],
             [
              0.8888888888888888,
              "#fdca26"
             ],
             [
              1,
              "#f0f921"
             ]
            ],
            "type": "surface"
           }
          ],
          "table": [
           {
            "cells": {
             "fill": {
              "color": "#EBF0F8"
             },
             "line": {
              "color": "white"
             }
            },
            "header": {
             "fill": {
              "color": "#C8D4E3"
             },
             "line": {
              "color": "white"
             }
            },
            "type": "table"
           }
          ]
         },
         "layout": {
          "annotationdefaults": {
           "arrowcolor": "#2a3f5f",
           "arrowhead": 0,
           "arrowwidth": 1
          },
          "autotypenumbers": "strict",
          "coloraxis": {
           "colorbar": {
            "outlinewidth": 0,
            "ticks": ""
           }
          },
          "colorscale": {
           "diverging": [
            [
             0,
             "#8e0152"
            ],
            [
             0.1,
             "#c51b7d"
            ],
            [
             0.2,
             "#de77ae"
            ],
            [
             0.3,
             "#f1b6da"
            ],
            [
             0.4,
             "#fde0ef"
            ],
            [
             0.5,
             "#f7f7f7"
            ],
            [
             0.6,
             "#e6f5d0"
            ],
            [
             0.7,
             "#b8e186"
            ],
            [
             0.8,
             "#7fbc41"
            ],
            [
             0.9,
             "#4d9221"
            ],
            [
             1,
             "#276419"
            ]
           ],
           "sequential": [
            [
             0,
             "#0d0887"
            ],
            [
             0.1111111111111111,
             "#46039f"
            ],
            [
             0.2222222222222222,
             "#7201a8"
            ],
            [
             0.3333333333333333,
             "#9c179e"
            ],
            [
             0.4444444444444444,
             "#bd3786"
            ],
            [
             0.5555555555555556,
             "#d8576b"
            ],
            [
             0.6666666666666666,
             "#ed7953"
            ],
            [
             0.7777777777777778,
             "#fb9f3a"
            ],
            [
             0.8888888888888888,
             "#fdca26"
            ],
            [
             1,
             "#f0f921"
            ]
           ],
           "sequentialminus": [
            [
             0,
             "#0d0887"
            ],
            [
             0.1111111111111111,
             "#46039f"
            ],
            [
             0.2222222222222222,
             "#7201a8"
            ],
            [
             0.3333333333333333,
             "#9c179e"
            ],
            [
             0.4444444444444444,
             "#bd3786"
            ],
            [
             0.5555555555555556,
             "#d8576b"
            ],
            [
             0.6666666666666666,
             "#ed7953"
            ],
            [
             0.7777777777777778,
             "#fb9f3a"
            ],
            [
             0.8888888888888888,
             "#fdca26"
            ],
            [
             1,
             "#f0f921"
            ]
           ]
          },
          "colorway": [
           "#636efa",
           "#EF553B",
           "#00cc96",
           "#ab63fa",
           "#FFA15A",
           "#19d3f3",
           "#FF6692",
           "#B6E880",
           "#FF97FF",
           "#FECB52"
          ],
          "font": {
           "color": "#2a3f5f"
          },
          "geo": {
           "bgcolor": "white",
           "lakecolor": "white",
           "landcolor": "#E5ECF6",
           "showlakes": true,
           "showland": true,
           "subunitcolor": "white"
          },
          "hoverlabel": {
           "align": "left"
          },
          "hovermode": "closest",
          "mapbox": {
           "style": "light"
          },
          "paper_bgcolor": "white",
          "plot_bgcolor": "#E5ECF6",
          "polar": {
           "angularaxis": {
            "gridcolor": "white",
            "linecolor": "white",
            "ticks": ""
           },
           "bgcolor": "#E5ECF6",
           "radialaxis": {
            "gridcolor": "white",
            "linecolor": "white",
            "ticks": ""
           }
          },
          "scene": {
           "xaxis": {
            "backgroundcolor": "#E5ECF6",
            "gridcolor": "white",
            "gridwidth": 2,
            "linecolor": "white",
            "showbackground": true,
            "ticks": "",
            "zerolinecolor": "white"
           },
           "yaxis": {
            "backgroundcolor": "#E5ECF6",
            "gridcolor": "white",
            "gridwidth": 2,
            "linecolor": "white",
            "showbackground": true,
            "ticks": "",
            "zerolinecolor": "white"
           },
           "zaxis": {
            "backgroundcolor": "#E5ECF6",
            "gridcolor": "white",
            "gridwidth": 2,
            "linecolor": "white",
            "showbackground": true,
            "ticks": "",
            "zerolinecolor": "white"
           }
          },
          "shapedefaults": {
           "line": {
            "color": "#2a3f5f"
           }
          },
          "ternary": {
           "aaxis": {
            "gridcolor": "white",
            "linecolor": "white",
            "ticks": ""
           },
           "baxis": {
            "gridcolor": "white",
            "linecolor": "white",
            "ticks": ""
           },
           "bgcolor": "#E5ECF6",
           "caxis": {
            "gridcolor": "white",
            "linecolor": "white",
            "ticks": ""
           }
          },
          "title": {
           "x": 0.05
          },
          "xaxis": {
           "automargin": true,
           "gridcolor": "white",
           "linecolor": "white",
           "ticks": "",
           "title": {
            "standoff": 15
           },
           "zerolinecolor": "white",
           "zerolinewidth": 2
          },
          "yaxis": {
           "automargin": true,
           "gridcolor": "white",
           "linecolor": "white",
           "ticks": "",
           "title": {
            "standoff": 15
           },
           "zerolinecolor": "white",
           "zerolinewidth": 2
          }
         }
        },
        "title": {
         "text": "Time = cathodalvsplacebo"
        },
        "updatemenus": [
         {
          "buttons": [
           {
            "args": [
             null,
             {
              "frame": {
               "duration": 1000
              },
              "fromcurrent": true
             }
            ],
            "label": "Play",
            "method": "animate"
           },
           {
            "args": [
             [
              null
             ],
             {
              "frame": {
               "duration": 0
              },
              "mode": "immediate",
              "transition": {
               "duration": 0
              }
             }
            ],
            "label": "Pause",
            "method": "animate"
           }
          ],
          "direction": "left",
          "pad": {
           "r": 10,
           "t": 70
          },
          "showactive": false,
          "type": "buttons",
          "x": 0.1,
          "xanchor": "right",
          "y": 0,
          "yanchor": "top"
         }
        ],
        "width": 1050,
        "xaxis": {
         "anchor": "y",
         "categoryarray": [
          "P8",
          "T8",
          "CP6",
          "FC6",
          "F8",
          "F4",
          "C4",
          "P4",
          "AF4",
          "Fp2",
          "Fp1",
          "AF3",
          "Fz",
          "FC2",
          "Cz",
          "CP2",
          "PO3",
          "O1",
          "Oz",
          "O2",
          "PO4",
          "Pz",
          "CP1",
          "FC1",
          "P3",
          "C3",
          "F3",
          "F7",
          "FC5",
          "CP5",
          "T7",
          "P7"
         ],
         "categoryorder": "array",
         "domain": [
          0,
          1
         ],
         "tickangle": -90,
         "tickfont": {
          "size": 14
         },
         "title": {
          "text": "Regions"
         }
        },
        "yaxis": {
         "anchor": "x",
         "domain": [
          0,
          1
         ],
         "dtick": 1,
         "range": [
          -11,
          11
         ],
         "title": {
          "text": "Neuron Proportion"
         }
        }
       }
      }
     },
     "metadata": {},
     "output_type": "display_data"
    }
   ],
   "source": [
    "import plotly.express as px\n",
    "import pandas as pd\n",
    "import plotly.io as pio\n",
    "from pathlib import Path\n",
    "\n",
    "Directory = '/Users/yaale244/Desktop/Alex19022023/CSBCIPredictionAlgorithm/tDCS baseline/2s30-31npwcut/np/stimcomparisons' #change directory as needed\n",
    "\n",
    "pathlist = Path(Directory).rglob('*.csv')\n",
    "dfs = [] # initialize list to store data frames\n",
    "for path in sorted(pathlist):\n",
    "    path_in_str = str(path)# because path is object not string\n",
    "    filename = pathlib.Path(path_in_str).name\n",
    "    l = len(filename)\n",
    "    filename = filename[0:l-4]\n",
    "    df = pd.read_table(path, header=None, delimiter=',') # reads table including first row\n",
    "    df.columns = ['region', 'percentage']\n",
    "    df['time'] = filename # add time column to data frame\n",
    "    dfs.append(df) # add data frame to list\n",
    "df_concat = pd.concat(dfs) # concatenate data frames into one\n",
    "\n",
    "fig = px.scatter(df_concat, x='region', y='percentage', color='percentage', size=df_concat['percentage'].abs(), size_max=50, text=np.where(df_concat['percentage'] != 0, df_concat['region'], ''), color_continuous_scale='plasma', animation_frame='time')\n",
    "fig.update_traces(text=df_concat['percentage'].apply(lambda x: f'{x:.0f}' if abs(x) >= 1 else ''), selector=dict(mode='markers'))\n",
    "fig.update_traces(\n",
    "    textposition='top center')\n",
    "fig.update_layout(\n",
    "    yaxis=dict(range=[-11,11], dtick=1),\n",
    "    title='',\n",
    "    xaxis_title=\"Regions\",\n",
    "    yaxis_title=\"Neuron Proportion\",\n",
    "    xaxis_categoryorder='array',\n",
    "    xaxis_categoryarray=list(df_concat['region'].unique()), # set the order of x-axis labels\n",
    "    xaxis={'categoryorder': 'array',\n",
    "           'categoryarray': list(df['region'])}, # set the order of x-axis labels\n",
    "    font=dict(\n",
    "        family=\"Courier New, monospace\",\n",
    "        size=12,\n",
    "        color=\"black\"\n",
    "    ),\n",
    "    width=1050, # increase plot width\n",
    "    height=500, # increase plot height\n",
    "    xaxis_tickangle=-90, # rotate x-axis labels for better readability\n",
    "    xaxis_tickfont=dict(size=14), # adjust x-axis label font size\n",
    "\n",
    "    margin=dict(l=80, r=50, t=80, b=50), # adjust plot margins\n",
    "    updatemenus=[dict(\n",
    "        type='buttons',\n",
    "        showactive=False,\n",
    "        buttons=[dict(\n",
    "            label='Play',\n",
    "            method='animate',\n",
    "            args=[None, {'frame': {'duration': 1000}, 'fromcurrent': True}]\n",
    "        ), dict(\n",
    "            label='Pause',\n",
    "            method='animate',\n",
    "            args=[[None], {'frame': {'duration': 0}, 'mode': 'immediate', 'transition': {'duration': 0}}]\n",
    "        )]\n",
    "    )]\n",
    ")\n",
    "\n",
    "# Export the figure as a HTML file\n",
    "fig.write_html(\"animationdelta.html\", include_plotlyjs='cdn')\n",
    "# Save each animation frame as a PNG image\n",
    "for i in range(len(df_concat['time'].unique())):\n",
    "    fig.update_layout(title_text=f\"Time = {df_concat['time'].unique()[i]}\") # set title for current frame\n",
    "    filename = df_concat['time'].unique()[i] + \".png\"\n",
    "    fig.write_image(filename, engine='kaleido', scale=6)\n",
    "# Show the figure\n",
    "fig.show()\n",
    "\n"
   ]
  }
 ],
 "metadata": {
  "kernelspec": {
   "display_name": "Python 3.8.8 ('base')",
   "language": "python",
   "name": "python3"
  },
  "language_info": {
   "codemirror_mode": {
    "name": "ipython",
    "version": 3
   },
   "file_extension": ".py",
   "mimetype": "text/x-python",
   "name": "python",
   "nbconvert_exporter": "python",
   "pygments_lexer": "ipython3",
   "version": "3.8.8"
  },
  "orig_nbformat": 4,
  "vscode": {
   "interpreter": {
    "hash": "40d3a090f54c6569ab1632332b64b2c03c39dcf918b08424e98f38b5ae0af88f"
   }
  }
 },
 "nbformat": 4,
 "nbformat_minor": 2
}
