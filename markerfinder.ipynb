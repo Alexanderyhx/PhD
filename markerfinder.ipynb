{
 "cells": [
  {
   "cell_type": "code",
   "execution_count": null,
   "metadata": {},
   "outputs": [],
   "source": [
    "\n",
    "import pandas as pd\n",
    "import numpy as np\n",
    "import pathlib\n",
    "from pathlib import Path\n",
    "from itertools import cycle\n",
    "\n",
    "Directory = 'insert here ' #change directory as needed\n",
    "\n",
    "pathlist = sorted(Path(Directory).rglob('*.csv'))\n",
    "data = []\n",
    "\n",
    "for path in pathlist: # Access all files in folder\n",
    "    path_in_str = str(path)# because path is object not string\n",
    "    filename = pathlib.Path(path_in_str).name #denotes filename\n",
    "    l=len(filename) # length of filename\n",
    "    df = pd.read_table(path, header = None, delimiter=',') # reads table including first row, uses ','\n",
    "    x = df.iloc[:,[35]] #locates column 35, which for 32 channel EEG in Nic2.0 is the marker column.\n",
    "    for marker in range(1,5): #for loop for all markers 1-8, not including 9\n",
    "        idx = df.index[np.isin(x, marker).any(axis=1)] #makes index with the marker number\n",
    "        index = idx.values #returns actual index values instead of in index format\n",
    "        quantity = index.shape[0]\n",
    "        if len(index)==0: #fills empty output with 0\n",
    "            index = 0 # as above^\n",
    "        markerdetails = [filename, marker, index, quantity] #makes an array with the filename, marker, marker index\n",
    "         #creates empty index list)\n",
    "        data.append(markerdetails)\n",
    "np.savetxt('markers.csv', data, fmt = '%s', delimiter = ',')"
   ]
  }
 ],
 "metadata": {
  "kernelspec": {
   "display_name": "Python 3",
   "language": "python",
   "name": "python3"
  },
  "language_info": {
   "name": "python",
   "version": "2.7.10 (default, Nov 16 2021, 23:08:45) \n[GCC 4.2.1 Compatible Apple LLVM 10.0.1 (clang-1001.0.46.4)]"
  },
  "orig_nbformat": 4,
  "vscode": {
   "interpreter": {
    "hash": "54c0880d5bbea0f3330a3688fb3d9ac4da1091c0aaf2a2bad05c843c97b10eef"
   }
  }
 },
 "nbformat": 4,
 "nbformat_minor": 2
}
